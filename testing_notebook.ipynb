{
 "cells": [
  {
   "cell_type": "code",
   "execution_count": 5,
   "metadata": {},
   "outputs": [],
   "source": [
    "from mercatracker import globals, etl\n",
    "import ast\n",
    "import sqlite3\n",
    "\n",
    "config = globals.load_dotenv(\n",
    "    dotenv_shared=\".env.shared\",\n",
    ")\n",
    "\n",
    "# parameters_list = [{'table': 'products', 'columns_to_select': '_PRODUCTS_COLUMNS', 'columns_to_hash': \"PRODUCTS\", 'subset_duplicates': ['id', 'hash']}, {'table': 'ids_categories', 'columns_to_select': '_IDS_CATEGORIES_COLUMNS', 'columns_to_hash': \"CATEGORIES\", 'subset_duplicates': ['id', 'hash']}, {'table': 'categories', 'columns_to_select': '_CATEGORIES_COLUMNS', 'columns_to_hash': \"CATEGORIES_FINAL\", 'subset_duplicates': ['hash']}]"
   ]
  },
  {
   "cell_type": "code",
   "execution_count": 12,
   "metadata": {},
   "outputs": [
    {
     "data": {
      "text/plain": [
       "[{'table': 'products',\n",
       "  'columns_to_select': ['id',\n",
       "   'ean',\n",
       "   'slug',\n",
       "   'brand',\n",
       "   'badges.is_water',\n",
       "   'badges.requires_age_check',\n",
       "   'origin',\n",
       "   'details.brand',\n",
       "   'details.origin',\n",
       "   'details.suppliers',\n",
       "   'details.legal_name',\n",
       "   'details.description',\n",
       "   'details.counter_info',\n",
       "   'details.danger_mentions',\n",
       "   'details.alcohol_by_volume',\n",
       "   'details.mandatory_mentions',\n",
       "   'details.production_variant',\n",
       "   'details.usage_instructions',\n",
       "   'details.storage_instructions',\n",
       "   'is_bulk',\n",
       "   'packaging',\n",
       "   'published',\n",
       "   'thumbnail',\n",
       "   'display_name',\n",
       "   'is_variable_weight',\n",
       "   'nutrition_information.allergens',\n",
       "   'nutrition_information.ingredients',\n",
       "   'ymd'],\n",
       "  'columns_to_hash': ['slug',\n",
       "   'brand',\n",
       "   'badges.is_water',\n",
       "   'badges.requires_age_check',\n",
       "   'origin',\n",
       "   'details.brand',\n",
       "   'details.origin',\n",
       "   'details.suppliers',\n",
       "   'details.legal_name',\n",
       "   'details.description',\n",
       "   'details.counter_info',\n",
       "   'details.danger_mentions',\n",
       "   'details.alcohol_by_volume',\n",
       "   'details.mandatory_mentions',\n",
       "   'details.production_variant',\n",
       "   'details.usage_instructions',\n",
       "   'details.storage_instructions',\n",
       "   'is_bulk',\n",
       "   'packaging',\n",
       "   'published',\n",
       "   'thumbnail',\n",
       "   'display_name',\n",
       "   'is_variable_weight',\n",
       "   'nutrition_information.allergens',\n",
       "   'nutrition_information.ingredients'],\n",
       "  'subset_duplicates': ['id', 'hash']},\n",
       " {'table': 'ids_categories',\n",
       "  'columns_to_select': ['id',\n",
       "   'ean',\n",
       "   'l1',\n",
       "   'l1_name',\n",
       "   'l2',\n",
       "   'l2_name',\n",
       "   'l3',\n",
       "   'l3_name',\n",
       "   'ymd'],\n",
       "  'columns_to_hash': ['l1', 'l1_name', 'l2', 'l2_name', 'l3', 'l3_name'],\n",
       "  'subset_duplicates': ['id', 'hash']},\n",
       " {'table': 'categories',\n",
       "  'columns_to_select': ['level', 'name', 'ymd'],\n",
       "  'columns_to_hash': ['level', 'name'],\n",
       "  'subset_duplicates': ['hash']}]"
      ]
     },
     "execution_count": 12,
     "metadata": {},
     "output_type": "execute_result"
    }
   ],
   "source": [
    "config[\"ETL_PARAMETERS\"]"
   ]
  },
  {
   "cell_type": "code",
   "execution_count": 7,
   "metadata": {},
   "outputs": [],
   "source": [
    "conn = sqlite3.connect(\"mercadona.db\")\n",
    "df_current, df_updated = etl.update_database(\n",
    "        table=parameters[\"table\"],\n",
    "        conn=conn,\n",
    "        columns_to_select=parameters[\"columns_to_select\"],\n",
    "        columns_to_hash=parameters[\"columns_to_hash\"],\n",
    "        subset_duplicates=parameters[\"subset_duplicates\"],\n",
    "    )"
   ]
  },
  {
   "cell_type": "code",
   "execution_count": 18,
   "metadata": {},
   "outputs": [
    {
     "data": {
      "text/html": [
       "<div>\n",
       "<style scoped>\n",
       "    .dataframe tbody tr th:only-of-type {\n",
       "        vertical-align: middle;\n",
       "    }\n",
       "\n",
       "    .dataframe tbody tr th {\n",
       "        vertical-align: top;\n",
       "    }\n",
       "\n",
       "    .dataframe thead th {\n",
       "        text-align: right;\n",
       "    }\n",
       "</style>\n",
       "<table border=\"1\" class=\"dataframe\">\n",
       "  <thead>\n",
       "    <tr style=\"text-align: right;\">\n",
       "      <th></th>\n",
       "      <th>id</th>\n",
       "      <th>ean</th>\n",
       "      <th>l1</th>\n",
       "      <th>l1_name</th>\n",
       "      <th>l2</th>\n",
       "      <th>l2_name</th>\n",
       "      <th>l3</th>\n",
       "      <th>l3_name</th>\n",
       "      <th>ymd</th>\n",
       "      <th>hash</th>\n",
       "    </tr>\n",
       "  </thead>\n",
       "  <tbody>\n",
       "  </tbody>\n",
       "</table>\n",
       "</div>"
      ],
      "text/plain": [
       "Empty DataFrame\n",
       "Columns: [id, ean, l1, l1_name, l2, l2_name, l3, l3_name, ymd, hash]\n",
       "Index: []"
      ]
     },
     "execution_count": 18,
     "metadata": {},
     "output_type": "execute_result"
    }
   ],
   "source": [
    "df_updated[~df_updated.hash.isin(df_current.hash)]"
   ]
  },
  {
   "cell_type": "code",
   "execution_count": 88,
   "metadata": {},
   "outputs": [],
   "source": [
    "for i, parameters in enumerate(config[\"ETL_PARAMETERS\"]):\n",
    "    for column in ('columns_to_select', 'columns_to_hash'):\n",
    "        try:\n",
    "            config[\"ETL_PARAMETERS\"][i][column] = config[parameters[column]]\n",
    "        except TypeError:\n",
    "            continue\n",
    "\n",
    "\n",
    "# list(enumerate(config[\"ETL_PARAMETERS\"][0]['columns_to_hash']))\n",
    "\n",
    "# config[parameters['columns_to_hash']]\n",
    "# config[config[\"ETL_PARAMETERS\"][0]['columns_to_select']]"
   ]
  },
  {
   "cell_type": "code",
   "execution_count": 85,
   "metadata": {},
   "outputs": [
    {
     "data": {
      "text/plain": [
       "[{'table': 'products',\n",
       "  'columns_to_select': ['id',\n",
       "   'ean',\n",
       "   'slug',\n",
       "   'brand',\n",
       "   'badges.is_water',\n",
       "   'badges.requires_age_check',\n",
       "   'origin',\n",
       "   'details.brand',\n",
       "   'details.origin',\n",
       "   'details.suppliers',\n",
       "   'details.legal_name',\n",
       "   'details.description',\n",
       "   'details.counter_info',\n",
       "   'details.danger_mentions',\n",
       "   'details.alcohol_by_volume',\n",
       "   'details.mandatory_mentions',\n",
       "   'details.production_variant',\n",
       "   'details.usage_instructions',\n",
       "   'details.storage_instructions',\n",
       "   'is_bulk',\n",
       "   'packaging',\n",
       "   'published',\n",
       "   'thumbnail',\n",
       "   'display_name',\n",
       "   'is_variable_weight',\n",
       "   'nutrition_information.allergens',\n",
       "   'nutrition_information.ingredients',\n",
       "   'ymd'],\n",
       "  'columns_to_hash': ['slug',\n",
       "   'brand',\n",
       "   'badges.is_water',\n",
       "   'badges.requires_age_check',\n",
       "   'origin',\n",
       "   'details.brand',\n",
       "   'details.origin',\n",
       "   'details.suppliers',\n",
       "   'details.legal_name',\n",
       "   'details.description',\n",
       "   'details.counter_info',\n",
       "   'details.danger_mentions',\n",
       "   'details.alcohol_by_volume',\n",
       "   'details.mandatory_mentions',\n",
       "   'details.production_variant',\n",
       "   'details.usage_instructions',\n",
       "   'details.storage_instructions',\n",
       "   'is_bulk',\n",
       "   'packaging',\n",
       "   'published',\n",
       "   'thumbnail',\n",
       "   'display_name',\n",
       "   'is_variable_weight',\n",
       "   'nutrition_information.allergens',\n",
       "   'nutrition_information.ingredients'],\n",
       "  'subset_duplicates': ['id', 'hash']},\n",
       " {'table': 'ids_categories',\n",
       "  'columns_to_select': ['id',\n",
       "   'ean',\n",
       "   'l1',\n",
       "   'l1_name',\n",
       "   'l2',\n",
       "   'l2_name',\n",
       "   'l3',\n",
       "   'l3_name',\n",
       "   'ymd'],\n",
       "  'columns_to_hash': ['l1', 'l1_name', 'l2', 'l2_name', 'l3', 'l3_name'],\n",
       "  'subset_duplicates': ['id', 'hash']},\n",
       " {'table': 'categories',\n",
       "  'columns_to_select': ['level', 'name', 'ymd'],\n",
       "  'columns_to_hash': ['level', 'name'],\n",
       "  'subset_duplicates': ['hash']}]"
      ]
     },
     "execution_count": 85,
     "metadata": {},
     "output_type": "execute_result"
    }
   ],
   "source": [
    "# for column in ('columns_to_select', 'columns_to_hash'):\n",
    "#     print(column)\n",
    "\n",
    "config[\"ETL_PARAMETERS\"]"
   ]
  },
  {
   "cell_type": "code",
   "execution_count": 77,
   "metadata": {},
   "outputs": [
    {
     "data": {
      "text/plain": [
       "['slug',\n",
       " 'brand',\n",
       " 'badges.is_water',\n",
       " 'badges.requires_age_check',\n",
       " 'origin',\n",
       " 'details.brand',\n",
       " 'details.origin',\n",
       " 'details.suppliers',\n",
       " 'details.legal_name',\n",
       " 'details.description',\n",
       " 'details.counter_info',\n",
       " 'details.danger_mentions',\n",
       " 'details.alcohol_by_volume',\n",
       " 'details.mandatory_mentions',\n",
       " 'details.production_variant',\n",
       " 'details.usage_instructions',\n",
       " 'details.storage_instructions',\n",
       " 'is_bulk',\n",
       " 'packaging',\n",
       " 'published',\n",
       " 'thumbnail',\n",
       " 'display_name',\n",
       " 'is_variable_weight',\n",
       " 'nutrition_information.allergens',\n",
       " 'nutrition_information.ingredients']"
      ]
     },
     "execution_count": 77,
     "metadata": {},
     "output_type": "execute_result"
    }
   ],
   "source": [
    "config[parameters['columns_to_hash']]"
   ]
  },
  {
   "cell_type": "code",
   "execution_count": 58,
   "metadata": {},
   "outputs": [],
   "source": [
    "config[\"ETL_PARAMETERS\"][0]['columns_to_select'] = config[config[\"ETL_PARAMETERS\"][0]['columns_to_select']]"
   ]
  },
  {
   "cell_type": "code",
   "execution_count": 57,
   "metadata": {},
   "outputs": [
    {
     "data": {
      "text/plain": [
       "['id',\n",
       " 'ean',\n",
       " 'slug',\n",
       " 'brand',\n",
       " 'badges.is_water',\n",
       " 'badges.requires_age_check',\n",
       " 'origin',\n",
       " 'details.brand',\n",
       " 'details.origin',\n",
       " 'details.suppliers',\n",
       " 'details.legal_name',\n",
       " 'details.description',\n",
       " 'details.counter_info',\n",
       " 'details.danger_mentions',\n",
       " 'details.alcohol_by_volume',\n",
       " 'details.mandatory_mentions',\n",
       " 'details.production_variant',\n",
       " 'details.usage_instructions',\n",
       " 'details.storage_instructions',\n",
       " 'is_bulk',\n",
       " 'packaging',\n",
       " 'published',\n",
       " 'thumbnail',\n",
       " 'display_name',\n",
       " 'is_variable_weight',\n",
       " 'nutrition_information.allergens',\n",
       " 'nutrition_information.ingredients',\n",
       " 'ymd']"
      ]
     },
     "execution_count": 57,
     "metadata": {},
     "output_type": "execute_result"
    }
   ],
   "source": [
    "config[config[\"ETL_PARAMETERS\"][0]['columns_to_select']]"
   ]
  },
  {
   "cell_type": "code",
   "execution_count": 53,
   "metadata": {},
   "outputs": [
    {
     "data": {
      "text/plain": [
       "{'table': 'products',\n",
       " 'columns_to_select': '_PRODUCTS_COLUMNS',\n",
       " 'columns_to_hash': 'PRODUCTS',\n",
       " 'subset_duplicates': ['id', 'hash']}"
      ]
     },
     "execution_count": 53,
     "metadata": {},
     "output_type": "execute_result"
    }
   ],
   "source": [
    "parameters_list[0]['columns_to_select'] = config[para]"
   ]
  },
  {
   "cell_type": "code",
   "execution_count": 51,
   "metadata": {},
   "outputs": [
    {
     "ename": "KeyError",
     "evalue": "'columns_to_hash'",
     "output_type": "error",
     "traceback": [
      "\u001b[1;31m---------------------------------------------------------------------------\u001b[0m",
      "\u001b[1;31mKeyError\u001b[0m                                  Traceback (most recent call last)",
      "Cell \u001b[1;32mIn[51], line 1\u001b[0m\n\u001b[1;32m----> 1\u001b[0m config[column], config[parameters[column]]\n",
      "\u001b[1;31mKeyError\u001b[0m: 'columns_to_hash'"
     ]
    }
   ],
   "source": [
    "config[column], config[parameters[column]]"
   ]
  },
  {
   "cell_type": "code",
   "execution_count": 40,
   "metadata": {},
   "outputs": [
    {
     "data": {
      "text/plain": [
       "['level', 'name']"
      ]
     },
     "execution_count": 40,
     "metadata": {},
     "output_type": "execute_result"
    }
   ],
   "source": [
    "config[parameters[column]]"
   ]
  }
 ],
 "metadata": {
  "kernelspec": {
   "display_name": "merca",
   "language": "python",
   "name": "python3"
  },
  "language_info": {
   "codemirror_mode": {
    "name": "ipython",
    "version": 3
   },
   "file_extension": ".py",
   "mimetype": "text/x-python",
   "name": "python",
   "nbconvert_exporter": "python",
   "pygments_lexer": "ipython3",
   "version": "3.12.3"
  },
  "orig_nbformat": 4,
  "vscode": {
   "interpreter": {
    "hash": "d35eaa9a69f3256c3eccd64457ae09fcffca1b2fff5cf0fa6094705b988e1eeb"
   }
  }
 },
 "nbformat": 4,
 "nbformat_minor": 2
}
