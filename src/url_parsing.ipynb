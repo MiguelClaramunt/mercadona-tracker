{
 "cells": [
  {
   "cell_type": "code",
   "execution_count": 37,
   "metadata": {},
   "outputs": [
    {
     "ename": "TypeError",
     "evalue": "urlunparse() takes 1 positional argument but 6 were given",
     "output_type": "error",
     "traceback": [
      "\u001b[0;31m---------------------------------------------------------------------------\u001b[0m",
      "\u001b[0;31mTypeError\u001b[0m                                 Traceback (most recent call last)",
      "Cell \u001b[0;32mIn[37], line 30\u001b[0m\n\u001b[1;32m     18\u001b[0m \u001b[38;5;28mid\u001b[39m \u001b[38;5;241m=\u001b[39m \u001b[38;5;241m1\u001b[39m\n\u001b[1;32m     19\u001b[0m \u001b[38;5;66;03m# url = urlunparse(\u001b[39;00m\n\u001b[1;32m     20\u001b[0m \u001b[38;5;66;03m#     Components(\u001b[39;00m\n\u001b[1;32m     21\u001b[0m \u001b[38;5;66;03m#         scheme='https',\u001b[39;00m\n\u001b[0;32m   (...)\u001b[0m\n\u001b[1;32m     27\u001b[0m \u001b[38;5;66;03m#     )\u001b[39;00m\n\u001b[1;32m     28\u001b[0m \u001b[38;5;66;03m# )\u001b[39;00m\n\u001b[0;32m---> 30\u001b[0m url \u001b[38;5;241m=\u001b[39m \u001b[43murlunparse\u001b[49m\u001b[43m(\u001b[49m\n\u001b[1;32m     31\u001b[0m \u001b[43m    \u001b[49m\u001b[38;5;124;43m'\u001b[39;49m\u001b[38;5;124;43mhttps\u001b[39;49m\u001b[38;5;124;43m'\u001b[39;49m\u001b[43m,\u001b[49m\n\u001b[1;32m     32\u001b[0m \u001b[43m    \u001b[49m\u001b[38;5;124;43m'\u001b[39;49m\u001b[38;5;124;43mtienda.mercadona.es\u001b[39;49m\u001b[38;5;124;43m'\u001b[39;49m\u001b[43m,\u001b[49m\n\u001b[1;32m     33\u001b[0m \u001b[43m    \u001b[49m\u001b[38;5;124;43m'\u001b[39;49m\u001b[38;5;124;43m/api/v1_1/products/10000/\u001b[39;49m\u001b[38;5;124;43m'\u001b[39;49m\u001b[43m,\u001b[49m\n\u001b[1;32m     34\u001b[0m \u001b[43m    \u001b[49m\u001b[43murlencode\u001b[49m\u001b[43m(\u001b[49m\u001b[43mconfig\u001b[49m\u001b[38;5;241;43m.\u001b[39;49m\u001b[43mparams_api\u001b[49m\u001b[43m)\u001b[49m\u001b[43m,\u001b[49m\n\u001b[1;32m     35\u001b[0m \u001b[43m    \u001b[49m\u001b[38;5;124;43m'\u001b[39;49m\u001b[38;5;124;43m'\u001b[39;49m\u001b[43m,\u001b[49m\n\u001b[1;32m     36\u001b[0m \u001b[43m    \u001b[49m\u001b[38;5;28;43;01mNone\u001b[39;49;00m\n\u001b[1;32m     37\u001b[0m \u001b[43m    \u001b[49m\u001b[43m)\u001b[49m\n\u001b[1;32m     39\u001b[0m \u001b[38;5;66;03m# urlparse('https://tienda.mercadona.es/api/v1_1/products/10000/?lang=es&wh=vlc1')\u001b[39;00m\n\u001b[1;32m     40\u001b[0m \u001b[38;5;28mprint\u001b[39m(url)\n",
      "\u001b[0;31mTypeError\u001b[0m: urlunparse() takes 1 positional argument but 6 were given"
     ]
    }
   ],
   "source": [
    "from collections import namedtuple\n",
    "from urllib.parse import urlencode, urlparse, urlunparse\n",
    "from mercatracker.config import Config\n",
    "\n",
    "config = Config().load()\n",
    "\n",
    "# namedtuple to match the internal signature of urlunparse\n",
    "Components = namedtuple(\n",
    "    typename='Components', \n",
    "    field_names=['scheme', 'netloc', 'url', 'path', 'query', 'fragment']\n",
    ")\n",
    "\n",
    "# query_params = {\n",
    "#     'param1': 'some data', \n",
    "#     'param2': 42\n",
    "# }\n",
    "\n",
    "id = 1\n",
    "# url = urlunparse(\n",
    "#     Components(\n",
    "#         scheme='https',\n",
    "#         netloc='tienda.mercadona.es',\n",
    "#         path='/api/v1_1/products/10000/',\n",
    "#         query=urlencode(config.params_api),\n",
    "#         url='',\n",
    "#         fragment=None\n",
    "#     )\n",
    "# )\n",
    "\n",
    "url = urlunparse(\n",
    "    'https',\n",
    "    'tienda.mercadona.es',\n",
    "    '/api/v1_1/products/10000/',\n",
    "    urlencode(config.params_api),\n",
    "    '',\n",
    "    None\n",
    "    )\n",
    "\n",
    "# urlparse('https://tienda.mercadona.es/api/v1_1/products/10000/?lang=es&wh=vlc1')\n",
    "print(url)"
   ]
  },
  {
   "cell_type": "code",
   "execution_count": 40,
   "metadata": {},
   "outputs": [
    {
     "data": {
      "text/plain": [
       "URL('https://tienda.mercadona.es/api/v1_1/products/1/?lang=es&wh=vlc1')"
      ]
     },
     "execution_count": 40,
     "metadata": {},
     "output_type": "execute_result"
    }
   ],
   "source": [
    "from yarl import URL\n",
    "\n",
    "URL.build(scheme=\"https\", host=\"tienda.mercadona.es\", path=f'/api/v1_1/products/{id}/', query=config.params_api)"
   ]
  },
  {
   "cell_type": "code",
   "execution_count": 27,
   "metadata": {},
   "outputs": [
    {
     "data": {
      "text/plain": [
       "ParseResult(scheme='https', netloc='tienda.mercadona.es', path='/api/v1_1/products/10000/', params='', query='lang=es&wh=vlc1', fragment='')"
      ]
     },
     "execution_count": 27,
     "metadata": {},
     "output_type": "execute_result"
    }
   ],
   "source": [
    "urlparse('https://tienda.mercadona.es/api/v1_1/products/10000/?lang=es&wh=vlc1')"
   ]
  }
 ],
 "metadata": {
  "kernelspec": {
   "display_name": "merca",
   "language": "python",
   "name": "python3"
  },
  "language_info": {
   "codemirror_mode": {
    "name": "ipython",
    "version": 3
   },
   "file_extension": ".py",
   "mimetype": "text/x-python",
   "name": "python",
   "nbconvert_exporter": "python",
   "pygments_lexer": "ipython3",
   "version": "3.12.3"
  }
 },
 "nbformat": 4,
 "nbformat_minor": 2
}
