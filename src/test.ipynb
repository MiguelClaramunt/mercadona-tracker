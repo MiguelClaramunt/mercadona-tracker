{
 "cells": [
  {
   "cell_type": "code",
   "execution_count": 1,
   "metadata": {},
   "outputs": [],
   "source": [
    "import os\n",
    "import sys\n",
    "import time\n",
    "\n",
    "import pandas as pd\n",
    "from tqdm import tqdm\n",
    "\n",
    "from mercatracker import api, io, logging, processing\n",
    "from mercatracker.config import Config\n",
    "from mercatracker.scraper import Soup\n",
    "\n",
    "pd.set_option(\"future.no_silent_downcasting\", True)\n",
    "\n",
    "config = Config().load()\n",
    "\n",
    "soup = Soup(url=config.url_sitemap).request()\n",
    "LASTMOD_DATE = soup.get_lastmod()\n",
    "\n",
    "if not LASTMOD_DATE == str(config.lastmod):\n",
    "    config[\"LASTMOD\"] = LASTMOD_DATE\n",
    "    all_ids = soup.get_ids()\n",
    "    config.update(file=\"temp\", var={\"LASTMOD\": LASTMOD_DATE})\n",
    "else:\n",
    "    all_ids = config.all_ids\n",
    "\n",
    "file = io.File(config[[\"ROOT_PATH\", \"ITEMS_FOLDER\", \"LASTMOD\"]], \".csv\")\n",
    "file.write_header(\n",
    "    pd.DataFrame(columns=config.items_cols).to_csv(\n",
    "        header=True, index=False, columns=config.items_cols\n",
    "    )\n",
    ")\n",
    "\n",
    "checked = file.read(dtypes={\"id\": str})\n",
    "\n",
    "ids = set(all_ids) - set(checked)\n",
    "idd = ids.pop()"
   ]
  },
  {
   "cell_type": "code",
   "execution_count": 2,
   "metadata": {},
   "outputs": [],
   "source": [
    "product = api.ProductSchema(id=idd, params=config.params_api)\n",
    "# response = product.request_force_retry()\n",
    "# response"
   ]
  },
  {
   "cell_type": "code",
   "execution_count": 2,
   "metadata": {},
   "outputs": [
    {
     "data": {
      "text/plain": [
       "\"{'id': '35347', 'ean': '8402001007064', 'slug': 'perfilador-ojos-waterproof-deliplus-09-azul-metalizado-con-esponja', 'brand': 'Deliplus', 'limit': 999, 'badges': {'is_water': False, 'requires_age_check': False}, 'origin': None, 'photos': [{'zoom': 'https://prod-mercadona.imgix.net/images/355923240572bee222bce0145b275e26.jpg?fit=crop&h=1600&w=1600', 'regular': 'https://prod-mercadona.imgix.net/images/355923240572bee222bce0145b275e26.jpg?fit=crop&h=600&w=600', 'thumbnail': 'https://prod-mercadona.imgix.net/images/355923240572bee222bce0145b275e26.jpg?fit=crop&h=300&w=300', 'perspective': 2}, {'zoom': 'https://prod-mercadona.imgix.net/images/78121eb8581ef33a2ee106a1931f61da.jpg?fit=crop&h=1600&w=1600', 'regular': 'https://prod-mercadona.imgix.net/images/78121eb8581ef33a2ee106a1931f61da.jpg?fit=crop&h=600&w=600', 'thumbnail': 'https://prod-mercadona.imgix.net/images/78121eb8581ef33a2ee106a1931f61da.jpg?fit=crop&h=300&w=300', 'perspective': 9}, {'zoom': 'https://prod-mercadona.imgix.net/images/7e78a2b54202db56dc1470e3930ed599.jpg?fit=crop&h=1600&w=1600', 'regular': 'https://prod-mercadona.imgix.net/images/7e78a2b54202db56dc1470e3930ed599.jpg?fit=crop&h=600&w=600', 'thumbnail': 'https://prod-mercadona.imgix.net/images/7e78a2b54202db56dc1470e3930ed599.jpg?fit=crop&h=300&w=300', 'perspective': 4}], 'details': {'brand': 'Deliplus', 'origin': None, 'suppliers': [], 'legal_name': None, 'description': 'Perfilador de ojos Waterproof Deliplus 09 azul metalizado con esponja', 'counter_info': None, 'danger_mentions': None, 'alcohol_by_volume': None, 'mandatory_mentions': None, 'production_variant': None, 'usage_instructions': None, 'storage_instructions': None}, 'is_bulk': False, 'packaging': None, 'published': True, 'share_url': 'https://tienda.mercadona.es/product/35347/perfilador-ojos-waterproof-deliplus-09-azul-metalizado-con-esponja', 'thumbnail': 'https://prod-mercadona.imgix.net/images/355923240572bee222bce0145b275e26.jpg?fit=crop&h=300&w=300', 'categories': [{'id': 22, 'name': 'Maquillaje', 'level': 0, 'order': 419, 'categories': [{'id': 210, 'name': 'Ojos', 'level': 1, 'order': 419, 'categories': [{'id': 682, 'name': 'Perfilador de ojos', 'level': 2, 'order': 419}]}]}], 'extra_info': [None], 'display_name': 'Perfilador de ojos Waterproof Deliplus 09 azul metalizado', 'unavailable_from': None, 'is_variable_weight': False, 'price_instructions': {'iva': 21, 'is_new': False, 'is_pack': False, 'pack_size': None, 'unit_name': None, 'unit_size': 1.0, 'bulk_price': '2.50', 'unit_price': '2.50', 'approx_size': False, 'size_format': 'ud', 'total_units': None, 'unit_selector': True, 'bunch_selector': False, 'drained_weight': None, 'selling_method': 0, 'price_decreased': False, 'reference_price': '2.500', 'min_bunch_amount': 1.0, 'reference_format': 'ud', 'previous_unit_price': None, 'increment_bunch_amount': 1.0}, 'unavailable_weekdays': [], 'nutrition_information': {'allergens': None, 'ingredients': None}}\""
      ]
     },
     "execution_count": 2,
     "metadata": {},
     "output_type": "execute_result"
    }
   ],
   "source": [
    "test = {'id': '35347', 'ean': '8402001007064', 'slug': 'perfilador-ojos-waterproof-deliplus-09-azul-metalizado-con-esponja', 'brand': 'Deliplus', 'limit': 999, 'badges': {'is_water': False, 'requires_age_check': False}, 'origin': None, 'photos': [{'zoom': 'https://prod-mercadona.imgix.net/images/355923240572bee222bce0145b275e26.jpg?fit=crop&h=1600&w=1600', 'regular': 'https://prod-mercadona.imgix.net/images/355923240572bee222bce0145b275e26.jpg?fit=crop&h=600&w=600', 'thumbnail': 'https://prod-mercadona.imgix.net/images/355923240572bee222bce0145b275e26.jpg?fit=crop&h=300&w=300', 'perspective': 2}, {'zoom': 'https://prod-mercadona.imgix.net/images/78121eb8581ef33a2ee106a1931f61da.jpg?fit=crop&h=1600&w=1600', 'regular': 'https://prod-mercadona.imgix.net/images/78121eb8581ef33a2ee106a1931f61da.jpg?fit=crop&h=600&w=600', 'thumbnail': 'https://prod-mercadona.imgix.net/images/78121eb8581ef33a2ee106a1931f61da.jpg?fit=crop&h=300&w=300', 'perspective': 9}, {'zoom': 'https://prod-mercadona.imgix.net/images/7e78a2b54202db56dc1470e3930ed599.jpg?fit=crop&h=1600&w=1600', 'regular': 'https://prod-mercadona.imgix.net/images/7e78a2b54202db56dc1470e3930ed599.jpg?fit=crop&h=600&w=600', 'thumbnail': 'https://prod-mercadona.imgix.net/images/7e78a2b54202db56dc1470e3930ed599.jpg?fit=crop&h=300&w=300', 'perspective': 4}], 'details': {'brand': 'Deliplus', 'origin': None, 'suppliers': [], 'legal_name': None, 'description': 'Perfilador de ojos Waterproof Deliplus 09 azul metalizado con esponja', 'counter_info': None, 'danger_mentions': None, 'alcohol_by_volume': None, 'mandatory_mentions': None, 'production_variant': None, 'usage_instructions': None, 'storage_instructions': None}, 'is_bulk': False, 'packaging': None, 'published': True, 'share_url': 'https://tienda.mercadona.es/product/35347/perfilador-ojos-waterproof-deliplus-09-azul-metalizado-con-esponja', 'thumbnail': 'https://prod-mercadona.imgix.net/images/355923240572bee222bce0145b275e26.jpg?fit=crop&h=300&w=300', 'categories': [{'id': 22, 'name': 'Maquillaje', 'level': 0, 'order': 419, 'categories': [{'id': 210, 'name': 'Ojos', 'level': 1, 'order': 419, 'categories': [{'id': 682, 'name': 'Perfilador de ojos', 'level': 2, 'order': 419}]}]}], 'extra_info': [None], 'display_name': 'Perfilador de ojos Waterproof Deliplus 09 azul metalizado', 'unavailable_from': None, 'is_variable_weight': False, 'price_instructions': {'iva': 21, 'is_new': False, 'is_pack': False, 'pack_size': None, 'unit_name': None, 'unit_size': 1.0, 'bulk_price': '2.50', 'unit_price': '2.50', 'approx_size': False, 'size_format': 'ud', 'total_units': None, 'unit_selector': True, 'bunch_selector': False, 'drained_weight': None, 'selling_method': 0, 'price_decreased': False, 'reference_price': '2.500', 'min_bunch_amount': 1.0, 'reference_format': 'ud', 'previous_unit_price': None, 'increment_bunch_amount': 1.0}, 'unavailable_weekdays': [], 'nutrition_information': {'allergens': None, 'ingredients': None}}\n",
    "\n",
    "str(test)"
   ]
  },
  {
   "cell_type": "code",
   "execution_count": 6,
   "metadata": {},
   "outputs": [
    {
     "data": {
      "text/plain": [
       "{'id': '33436',\n",
       " 'ean': '8480000334367',\n",
       " 'slug': 'torreznos-sabor-barbacoa-hacendado-paquete',\n",
       " 'brand': 'Hacendado',\n",
       " 'limit': 999,\n",
       " 'badges': {'is_water': False, 'requires_age_check': False},\n",
       " 'origin': 'España',\n",
       " 'photos': [{'zoom': 'https://prod-mercadona.imgix.net/images/95083add1b82058f3ba020c26e1bc256.jpg?fit=crop&h=1600&w=1600',\n",
       "   'regular': 'https://prod-mercadona.imgix.net/images/95083add1b82058f3ba020c26e1bc256.jpg?fit=crop&h=600&w=600',\n",
       "   'thumbnail': 'https://prod-mercadona.imgix.net/images/95083add1b82058f3ba020c26e1bc256.jpg?fit=crop&h=300&w=300',\n",
       "   'perspective': 2},\n",
       "  {'zoom': 'https://prod-mercadona.imgix.net/images/927a0ed45087aa651ac1a13e00305a49.jpg?fit=crop&h=1600&w=1600',\n",
       "   'regular': 'https://prod-mercadona.imgix.net/images/927a0ed45087aa651ac1a13e00305a49.jpg?fit=crop&h=600&w=600',\n",
       "   'thumbnail': 'https://prod-mercadona.imgix.net/images/927a0ed45087aa651ac1a13e00305a49.jpg?fit=crop&h=300&w=300',\n",
       "   'perspective': 9}],\n",
       " 'status': None,\n",
       " 'details': {'brand': 'Hacendado',\n",
       "  'origin': 'España',\n",
       "  'suppliers': [{'name': 'IMPORTACO CASA PONS S.A.U.'}],\n",
       "  'legal_name': 'TORREZNOS SABOR BARBECUE',\n",
       "  'description': 'Torreznos sabor barbacoa Hacendado',\n",
       "  'counter_info': None,\n",
       "  'danger_mentions': '',\n",
       "  'alcohol_by_volume': None,\n",
       "  'mandatory_mentions': 'Envasado en atmósfera protectora. ESTE PRODUCTO POR SU TAMAÑO NO LO DEBEN CONSUMIR MENORES DE 5 AÑOS.',\n",
       "  'production_variant': '',\n",
       "  'usage_instructions': 'Una vez abierto el envase, conservarlo cerrado y consumir el producto preferentemente en el plazo de una semana.',\n",
       "  'storage_instructions': 'Proteger de la luz. Conservar en lugar fresco y seco.'},\n",
       " 'is_bulk': False,\n",
       " 'packaging': 'Paquete',\n",
       " 'published': True,\n",
       " 'share_url': 'https://tienda.mercadona.es/product/33436/torreznos-sabor-barbacoa-hacendado-paquete',\n",
       " 'thumbnail': 'https://prod-mercadona.imgix.net/images/95083add1b82058f3ba020c26e1bc256.jpg?fit=crop&h=300&w=300',\n",
       " 'categories': [{'id': 15,\n",
       "   'name': 'Aperitivos',\n",
       "   'level': 0,\n",
       "   'order': 9,\n",
       "   'categories': [{'id': 132,\n",
       "     'name': 'Patatas fritas y snacks',\n",
       "     'level': 1,\n",
       "     'order': 9,\n",
       "     'categories': [{'id': 475, 'name': 'Snacks', 'level': 2, 'order': 9}]}]}],\n",
       " 'extra_info': [None],\n",
       " 'display_name': 'Torreznos sabor barbacoa Hacendado',\n",
       " 'unavailable_from': None,\n",
       " 'is_variable_weight': False,\n",
       " 'price_instructions': {'iva': 10,\n",
       "  'is_new': False,\n",
       "  'is_pack': False,\n",
       "  'pack_size': None,\n",
       "  'unit_name': None,\n",
       "  'unit_size': 0.1,\n",
       "  'bulk_price': '15.50',\n",
       "  'unit_price': '1.55',\n",
       "  'approx_size': False,\n",
       "  'size_format': 'kg',\n",
       "  'total_units': None,\n",
       "  'unit_selector': True,\n",
       "  'bunch_selector': False,\n",
       "  'drained_weight': None,\n",
       "  'selling_method': 0,\n",
       "  'price_decreased': False,\n",
       "  'reference_price': '15.500',\n",
       "  'min_bunch_amount': 1.0,\n",
       "  'reference_format': 'kg',\n",
       "  'previous_unit_price': None,\n",
       "  'increment_bunch_amount': 1.0},\n",
       " 'unavailable_weekdays': [],\n",
       " 'nutrition_information': {'allergens': 'Contiene <strong>soja y productos a base de soja</strong>. Contiene <strong>leche y sus derivados (incluida la lactosa)</strong>.',\n",
       "  'ingredients': 'Corteza con tocino, grasa de cerdo, sal, aroma, aroma de humo, hidrolizado de proteína vegetal (<strong>SOJA</strong>), <strong>LACTOSA</strong> (<strong>LECHE</strong>), extracto de levadura y potenciadores de sabor (E-621, E-631 y E-627).<strong>TRAZAS DE CACAHUETE, FRUTOS DE CÁSCARA Y GLUTEN.</strong>'}}"
      ]
     },
     "execution_count": 6,
     "metadata": {},
     "output_type": "execute_result"
    }
   ],
   "source": [
    "import requests\n",
    "requests.get(product.url).json()"
   ]
  },
  {
   "cell_type": "code",
   "execution_count": 14,
   "metadata": {},
   "outputs": [],
   "source": [
    "import pickle\n",
    "\n",
    "items_to_save = {\n",
    "    'response': response,\n",
    "    }\n",
    "\n",
    "for nombre, objeto in items_to_save.items():\n",
    "    with(f'{nombre}.pickle', 'wb') as handle:\n",
    "        pickle.dump(objeto, handle, protocol=pickle.HIGHEST_PROTOCOL)"
   ]
  },
  {
   "cell_type": "code",
   "execution_count": 8,
   "metadata": {},
   "outputs": [],
   "source": [
    "response.content"
   ]
  },
  {
   "cell_type": "code",
   "execution_count": 8,
   "metadata": {},
   "outputs": [],
   "source": [
    "from mercatracker.processing import generate_dataframe\n",
    "import re\n",
    "\n",
    "df = (\n",
    "        generate_dataframe(item)\n",
    "        .rename(columns={\"_brand\": \"brand1\", \"_origin\": \"origin1\"})\n",
    "        .rename(columns=lambda x: re.sub(\"^_\", \"\", x))\n",
    "    )"
   ]
  },
  {
   "cell_type": "code",
   "execution_count": null,
   "metadata": {},
   "outputs": [
    {
     "data": {
      "text/html": [
       "<div>\n",
       "<style scoped>\n",
       "    .dataframe tbody tr th:only-of-type {\n",
       "        vertical-align: middle;\n",
       "    }\n",
       "\n",
       "    .dataframe tbody tr th {\n",
       "        vertical-align: top;\n",
       "    }\n",
       "\n",
       "    .dataframe thead th {\n",
       "        text-align: right;\n",
       "    }\n",
       "</style>\n",
       "<table border=\"1\" class=\"dataframe\">\n",
       "  <thead>\n",
       "    <tr style=\"text-align: right;\">\n",
       "      <th></th>\n",
       "      <th>id</th>\n",
       "      <th>ean</th>\n",
       "      <th>slug</th>\n",
       "      <th>brand</th>\n",
       "      <th>limit</th>\n",
       "      <th>is_water</th>\n",
       "      <th>requires_age_check</th>\n",
       "      <th>origin</th>\n",
       "      <th>photos</th>\n",
       "      <th>brand1</th>\n",
       "      <th>...</th>\n",
       "      <th>selling_method</th>\n",
       "      <th>price_decreased</th>\n",
       "      <th>reference_price</th>\n",
       "      <th>min_bunch_amount</th>\n",
       "      <th>reference_format</th>\n",
       "      <th>previous_unit_price</th>\n",
       "      <th>increment_bunch_amount</th>\n",
       "      <th>unavailable_weekdays</th>\n",
       "      <th>allergens</th>\n",
       "      <th>ingredients</th>\n",
       "    </tr>\n",
       "  </thead>\n",
       "  <tbody>\n",
       "    <tr>\n",
       "      <th>0</th>\n",
       "      <td>16835</td>\n",
       "      <td>3600531513382</td>\n",
       "      <td>pintalabios-fluido-mate-superstay-matte-ink-ma...</td>\n",
       "      <td>Maybelline</td>\n",
       "      <td>999</td>\n",
       "      <td>False</td>\n",
       "      <td>False</td>\n",
       "      <td>None</td>\n",
       "      <td>[{'zoom': 'https://prod-mercadona.imgix.net/im...</td>\n",
       "      <td>Maybelline</td>\n",
       "      <td>...</td>\n",
       "      <td>0</td>\n",
       "      <td>False</td>\n",
       "      <td>8.000</td>\n",
       "      <td>1.0</td>\n",
       "      <td>ud</td>\n",
       "      <td>None</td>\n",
       "      <td>1.0</td>\n",
       "      <td>[]</td>\n",
       "      <td>None</td>\n",
       "      <td>None</td>\n",
       "    </tr>\n",
       "  </tbody>\n",
       "</table>\n",
       "<p>1 rows × 55 columns</p>\n",
       "</div>"
      ],
      "text/plain": [
       "      id            ean                                               slug  \\\n",
       "0  16835  3600531513382  pintalabios-fluido-mate-superstay-matte-ink-ma...   \n",
       "\n",
       "        brand  limit  is_water  requires_age_check origin  \\\n",
       "0  Maybelline    999     False               False   None   \n",
       "\n",
       "                                              photos      brand1  ...  \\\n",
       "0  [{'zoom': 'https://prod-mercadona.imgix.net/im...  Maybelline  ...   \n",
       "\n",
       "  selling_method price_decreased reference_price min_bunch_amount  \\\n",
       "0              0           False           8.000              1.0   \n",
       "\n",
       "  reference_format previous_unit_price increment_bunch_amount  \\\n",
       "0               ud                None                    1.0   \n",
       "\n",
       "  unavailable_weekdays allergens ingredients  \n",
       "0                   []      None        None  \n",
       "\n",
       "[1 rows x 55 columns]"
      ]
     },
     "execution_count": 9,
     "metadata": {},
     "output_type": "execute_result"
    }
   ],
   "source": [
    "df"
   ]
  }
 ],
 "metadata": {
  "kernelspec": {
   "display_name": "merca",
   "language": "python",
   "name": "python3"
  },
  "language_info": {
   "codemirror_mode": {
    "name": "ipython",
    "version": 3
   },
   "file_extension": ".py",
   "mimetype": "text/x-python",
   "name": "python",
   "nbconvert_exporter": "python",
   "pygments_lexer": "ipython3",
   "version": "3.12.3"
  }
 },
 "nbformat": 4,
 "nbformat_minor": 2
}
