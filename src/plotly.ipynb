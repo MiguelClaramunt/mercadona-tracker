{
 "cells": [
  {
   "cell_type": "code",
   "execution_count": 145,
   "metadata": {},
   "outputs": [],
   "source": [
    "import sqlite3\n",
    "\n",
    "import pandas as pd\n",
    "import matplotlib.pyplot as plt\n",
    "import plotly.express as px\n",
    "import plotly.figure_factory as ff\n",
    "import plotly.graph_objects as go\n",
    "\n",
    "# pd.options.plotting.backend = \"plotly\""
   ]
  },
  {
   "cell_type": "code",
   "execution_count": null,
   "metadata": {},
   "outputs": [],
   "source": [
    "conn = sqlite3.connect(\"mercadona.db\")\n",
    "query = \"\"\"\n",
    "SELECT avg([price_instructions.reference_price]) as [price_instructions.reference_price], l1, l1_name\n",
    "FROM prices LEFT JOIN ids_categories\n",
    "USING(id)\n",
    "where [price_instructions.unit_name] is NULL\n",
    "group by l1\n",
    "\"\"\"\n",
    "df = pd.read_sql(\n",
    "        query,\n",
    "        conn,\n",
    "        # dtype={\"id\": str, \"ymd\": int, \"price_instructions.reference_price\": float},\n",
    "    )\n",
    "# ff.create_table(df)"
   ]
  },
  {
   "cell_type": "code",
   "execution_count": 38,
   "metadata": {},
   "outputs": [
    {
     "name": "stderr",
     "output_type": "stream",
     "text": [
      "C:\\Users\\migue\\AppData\\Local\\Temp\\ipykernel_5580\\1643064708.py:3: DeprecationWarning:\n",
      "\n",
      "DataFrameGroupBy.apply operated on the grouping columns. This behavior is deprecated, and in a future version of pandas the grouping columns will be excluded from the operation. Either pass `include_groups=False` to exclude the groupings or explicitly select the grouping columns after groupby to silence this warning.\n",
      "\n"
     ]
    },
    {
     "data": {
      "text/html": [
       "<div>\n",
       "<style scoped>\n",
       "    .dataframe tbody tr th:only-of-type {\n",
       "        vertical-align: middle;\n",
       "    }\n",
       "\n",
       "    .dataframe tbody tr th {\n",
       "        vertical-align: top;\n",
       "    }\n",
       "\n",
       "    .dataframe thead th {\n",
       "        text-align: right;\n",
       "    }\n",
       "</style>\n",
       "<table border=\"1\" class=\"dataframe\">\n",
       "  <thead>\n",
       "    <tr style=\"text-align: right;\">\n",
       "      <th></th>\n",
       "      <th>display_name</th>\n",
       "      <th>price_instructions.unit_price</th>\n",
       "      <th>ymd</th>\n",
       "    </tr>\n",
       "  </thead>\n",
       "  <tbody>\n",
       "    <tr>\n",
       "      <th>0</th>\n",
       "      <td>1/4 Sandía baja en semillas</td>\n",
       "      <td>3.65</td>\n",
       "      <td>20240424</td>\n",
       "    </tr>\n",
       "    <tr>\n",
       "      <th>1</th>\n",
       "      <td>1/4 Sandía baja en semillas</td>\n",
       "      <td>7.05</td>\n",
       "      <td>20240423</td>\n",
       "    </tr>\n",
       "    <tr>\n",
       "      <th>2</th>\n",
       "      <td>11 Panecillos</td>\n",
       "      <td>1.10</td>\n",
       "      <td>20240423</td>\n",
       "    </tr>\n",
       "    <tr>\n",
       "      <th>3</th>\n",
       "      <td>12 Mini croissants de mantequilla</td>\n",
       "      <td>1.85</td>\n",
       "      <td>20240423</td>\n",
       "    </tr>\n",
       "    <tr>\n",
       "      <th>4</th>\n",
       "      <td>12 Mini saladas</td>\n",
       "      <td>1.25</td>\n",
       "      <td>20240423</td>\n",
       "    </tr>\n",
       "    <tr>\n",
       "      <th>...</th>\n",
       "      <td>...</td>\n",
       "      <td>...</td>\n",
       "      <td>...</td>\n",
       "    </tr>\n",
       "    <tr>\n",
       "      <th>3474</th>\n",
       "      <td>Zumo de tomate Hacendado</td>\n",
       "      <td>1.05</td>\n",
       "      <td>20240423</td>\n",
       "    </tr>\n",
       "    <tr>\n",
       "      <th>3475</th>\n",
       "      <td>Zumo pura naranja Hacendado</td>\n",
       "      <td>1.75</td>\n",
       "      <td>20240423</td>\n",
       "    </tr>\n",
       "    <tr>\n",
       "      <th>3476</th>\n",
       "      <td>Zumo pura naranja Hacendado</td>\n",
       "      <td>2.80</td>\n",
       "      <td>20240423</td>\n",
       "    </tr>\n",
       "    <tr>\n",
       "      <th>3477</th>\n",
       "      <td>Zumo pura naranja con pulpa Hacendado</td>\n",
       "      <td>1.75</td>\n",
       "      <td>20240423</td>\n",
       "    </tr>\n",
       "    <tr>\n",
       "      <th>3478</th>\n",
       "      <td>Ñoras Hacendado</td>\n",
       "      <td>1.40</td>\n",
       "      <td>20240423</td>\n",
       "    </tr>\n",
       "  </tbody>\n",
       "</table>\n",
       "<p>3479 rows × 3 columns</p>\n",
       "</div>"
      ],
      "text/plain": [
       "                               display_name  price_instructions.unit_price  \\\n",
       "0               1/4 Sandía baja en semillas                           3.65   \n",
       "1               1/4 Sandía baja en semillas                           7.05   \n",
       "2                             11 Panecillos                           1.10   \n",
       "3         12 Mini croissants de mantequilla                           1.85   \n",
       "4                           12 Mini saladas                           1.25   \n",
       "...                                     ...                            ...   \n",
       "3474               Zumo de tomate Hacendado                           1.05   \n",
       "3475            Zumo pura naranja Hacendado                           1.75   \n",
       "3476            Zumo pura naranja Hacendado                           2.80   \n",
       "3477  Zumo pura naranja con pulpa Hacendado                           1.75   \n",
       "3478                        Ñoras Hacendado                           1.40   \n",
       "\n",
       "           ymd  \n",
       "0     20240424  \n",
       "1     20240423  \n",
       "2     20240423  \n",
       "3     20240423  \n",
       "4     20240423  \n",
       "...        ...  \n",
       "3474  20240423  \n",
       "3475  20240423  \n",
       "3476  20240423  \n",
       "3477  20240423  \n",
       "3478  20240423  \n",
       "\n",
       "[3479 rows x 3 columns]"
      ]
     },
     "execution_count": 38,
     "metadata": {},
     "output_type": "execute_result"
    }
   ],
   "source": [
    "import numpy as np\n",
    "n_samples_per_group = 2\n",
    "df.groupby('display_name').apply(lambda x: x.sample(min(len(x), n_samples_per_group))).reset_index(drop=True)"
   ]
  },
  {
   "cell_type": "code",
   "execution_count": 45,
   "metadata": {},
   "outputs": [
    {
     "ename": "ValueError",
     "evalue": "Invalid color Botifarrón de carne",
     "output_type": "error",
     "traceback": [
      "\u001b[1;31m---------------------------------------------------------------------------\u001b[0m",
      "\u001b[1;31mValueError\u001b[0m                                Traceback (most recent call last)",
      "Cell \u001b[1;32mIn[45], line 1\u001b[0m\n\u001b[1;32m----> 1\u001b[0m ax \u001b[39m=\u001b[39m df\u001b[39m.\u001b[39;49mplot\u001b[39m.\u001b[39;49mline(x\u001b[39m=\u001b[39;49m\u001b[39m\"\u001b[39;49m\u001b[39mymd\u001b[39;49m\u001b[39m\"\u001b[39;49m, y\u001b[39m=\u001b[39;49m\u001b[39m\"\u001b[39;49m\u001b[39mprice_instructions.unit_price\u001b[39;49m\u001b[39m\"\u001b[39;49m, marker\u001b[39m=\u001b[39;49m\u001b[39m\"\u001b[39;49m\u001b[39mo\u001b[39;49m\u001b[39m\"\u001b[39;49m, color\u001b[39m=\u001b[39;49mdf[\u001b[39m'\u001b[39;49m\u001b[39mdisplay_name\u001b[39;49m\u001b[39m'\u001b[39;49m])\n\u001b[0;32m      2\u001b[0m ax\u001b[39m.\u001b[39mset_xlabel(\u001b[39m\"\u001b[39m\u001b[39mDate (ymd)\u001b[39m\u001b[39m\"\u001b[39m)\n\u001b[0;32m      3\u001b[0m ax\u001b[39m.\u001b[39mset_ylabel(\u001b[39m\"\u001b[39m\u001b[39mUnit Price\u001b[39m\u001b[39m\"\u001b[39m)\n",
      "File \u001b[1;32mc:\\Users\\migue\\miniconda3\\envs\\merca\\Lib\\site-packages\\pandas\\plotting\\_core.py:1100\u001b[0m, in \u001b[0;36mPlotAccessor.line\u001b[1;34m(self, x, y, **kwargs)\u001b[0m\n\u001b[0;32m   1034\u001b[0m \u001b[39m@Appender\u001b[39m(\n\u001b[0;32m   1035\u001b[0m \u001b[39m    \u001b[39m\u001b[39m\"\"\"\u001b[39;00m\n\u001b[0;32m   1036\u001b[0m \u001b[39m    See Also\u001b[39;00m\n\u001b[1;32m   (...)\u001b[0m\n\u001b[0;32m   1092\u001b[0m     \u001b[39mself\u001b[39m, x: Hashable \u001b[39m|\u001b[39m \u001b[39mNone\u001b[39;00m \u001b[39m=\u001b[39m \u001b[39mNone\u001b[39;00m, y: Hashable \u001b[39m|\u001b[39m \u001b[39mNone\u001b[39;00m \u001b[39m=\u001b[39m \u001b[39mNone\u001b[39;00m, \u001b[39m*\u001b[39m\u001b[39m*\u001b[39mkwargs\n\u001b[0;32m   1093\u001b[0m ) \u001b[39m-\u001b[39m\u001b[39m>\u001b[39m PlotAccessor:\n\u001b[0;32m   1094\u001b[0m \u001b[39m    \u001b[39m\u001b[39m\"\"\"\u001b[39;00m\n\u001b[0;32m   1095\u001b[0m \u001b[39m    Plot Series or DataFrame as lines.\u001b[39;00m\n\u001b[0;32m   1096\u001b[0m \n\u001b[0;32m   1097\u001b[0m \u001b[39m    This function is useful to plot lines using DataFrame's values\u001b[39;00m\n\u001b[0;32m   1098\u001b[0m \u001b[39m    as coordinates.\u001b[39;00m\n\u001b[0;32m   1099\u001b[0m \u001b[39m    \"\"\"\u001b[39;00m\n\u001b[1;32m-> 1100\u001b[0m     \u001b[39mreturn\u001b[39;00m \u001b[39mself\u001b[39;49m(kind\u001b[39m=\u001b[39;49m\u001b[39m\"\u001b[39;49m\u001b[39mline\u001b[39;49m\u001b[39m\"\u001b[39;49m, x\u001b[39m=\u001b[39;49mx, y\u001b[39m=\u001b[39;49my, \u001b[39m*\u001b[39;49m\u001b[39m*\u001b[39;49mkwargs)\n",
      "File \u001b[1;32mc:\\Users\\migue\\miniconda3\\envs\\merca\\Lib\\site-packages\\pandas\\plotting\\_core.py:1030\u001b[0m, in \u001b[0;36mPlotAccessor.__call__\u001b[1;34m(self, *args, **kwargs)\u001b[0m\n\u001b[0;32m   1027\u001b[0m             label_name \u001b[39m=\u001b[39m label_kw \u001b[39mor\u001b[39;00m data\u001b[39m.\u001b[39mcolumns\n\u001b[0;32m   1028\u001b[0m             data\u001b[39m.\u001b[39mcolumns \u001b[39m=\u001b[39m label_name\n\u001b[1;32m-> 1030\u001b[0m \u001b[39mreturn\u001b[39;00m plot_backend\u001b[39m.\u001b[39;49mplot(data, kind\u001b[39m=\u001b[39;49mkind, \u001b[39m*\u001b[39;49m\u001b[39m*\u001b[39;49mkwargs)\n",
      "File \u001b[1;32mc:\\Users\\migue\\miniconda3\\envs\\merca\\Lib\\site-packages\\pandas\\plotting\\_matplotlib\\__init__.py:71\u001b[0m, in \u001b[0;36mplot\u001b[1;34m(data, kind, **kwargs)\u001b[0m\n\u001b[0;32m     69\u001b[0m         kwargs[\u001b[39m\"\u001b[39m\u001b[39max\u001b[39m\u001b[39m\"\u001b[39m] \u001b[39m=\u001b[39m \u001b[39mgetattr\u001b[39m(ax, \u001b[39m\"\u001b[39m\u001b[39mleft_ax\u001b[39m\u001b[39m\"\u001b[39m, ax)\n\u001b[0;32m     70\u001b[0m plot_obj \u001b[39m=\u001b[39m PLOT_CLASSES[kind](data, \u001b[39m*\u001b[39m\u001b[39m*\u001b[39mkwargs)\n\u001b[1;32m---> 71\u001b[0m plot_obj\u001b[39m.\u001b[39;49mgenerate()\n\u001b[0;32m     72\u001b[0m plot_obj\u001b[39m.\u001b[39mdraw()\n\u001b[0;32m     73\u001b[0m \u001b[39mreturn\u001b[39;00m plot_obj\u001b[39m.\u001b[39mresult\n",
      "File \u001b[1;32mc:\\Users\\migue\\miniconda3\\envs\\merca\\Lib\\site-packages\\pandas\\plotting\\_matplotlib\\core.py:501\u001b[0m, in \u001b[0;36mMPLPlot.generate\u001b[1;34m(self)\u001b[0m\n\u001b[0;32m    499\u001b[0m \u001b[39mself\u001b[39m\u001b[39m.\u001b[39m_compute_plot_data()\n\u001b[0;32m    500\u001b[0m fig \u001b[39m=\u001b[39m \u001b[39mself\u001b[39m\u001b[39m.\u001b[39mfig\n\u001b[1;32m--> 501\u001b[0m \u001b[39mself\u001b[39;49m\u001b[39m.\u001b[39;49m_make_plot(fig)\n\u001b[0;32m    502\u001b[0m \u001b[39mself\u001b[39m\u001b[39m.\u001b[39m_add_table()\n\u001b[0;32m    503\u001b[0m \u001b[39mself\u001b[39m\u001b[39m.\u001b[39m_make_legend()\n",
      "File \u001b[1;32mc:\\Users\\migue\\miniconda3\\envs\\merca\\Lib\\site-packages\\pandas\\plotting\\_matplotlib\\core.py:1522\u001b[0m, in \u001b[0;36mLinePlot._make_plot\u001b[1;34m(self, fig)\u001b[0m\n\u001b[0;32m   1519\u001b[0m stacking_id \u001b[39m=\u001b[39m \u001b[39mself\u001b[39m\u001b[39m.\u001b[39m_get_stacking_id()\n\u001b[0;32m   1520\u001b[0m is_errorbar \u001b[39m=\u001b[39m com\u001b[39m.\u001b[39many_not_none(\u001b[39m*\u001b[39m\u001b[39mself\u001b[39m\u001b[39m.\u001b[39merrors\u001b[39m.\u001b[39mvalues())\n\u001b[1;32m-> 1522\u001b[0m colors \u001b[39m=\u001b[39m \u001b[39mself\u001b[39;49m\u001b[39m.\u001b[39;49m_get_colors()\n\u001b[0;32m   1523\u001b[0m \u001b[39mfor\u001b[39;00m i, (label, y) \u001b[39min\u001b[39;00m \u001b[39menumerate\u001b[39m(it):\n\u001b[0;32m   1524\u001b[0m     ax \u001b[39m=\u001b[39m \u001b[39mself\u001b[39m\u001b[39m.\u001b[39m_get_ax(i)\n",
      "File \u001b[1;32mc:\\Users\\migue\\miniconda3\\envs\\merca\\Lib\\site-packages\\pandas\\plotting\\_matplotlib\\core.py:1088\u001b[0m, in \u001b[0;36mMPLPlot._get_colors\u001b[1;34m(self, num_colors, color_kwds)\u001b[0m\n\u001b[0;32m   1086\u001b[0m \u001b[39melse\u001b[39;00m:\n\u001b[0;32m   1087\u001b[0m     color \u001b[39m=\u001b[39m \u001b[39mself\u001b[39m\u001b[39m.\u001b[39mkwds\u001b[39m.\u001b[39mget(color_kwds)\n\u001b[1;32m-> 1088\u001b[0m \u001b[39mreturn\u001b[39;00m get_standard_colors(\n\u001b[0;32m   1089\u001b[0m     num_colors\u001b[39m=\u001b[39;49mnum_colors,\n\u001b[0;32m   1090\u001b[0m     colormap\u001b[39m=\u001b[39;49m\u001b[39mself\u001b[39;49m\u001b[39m.\u001b[39;49mcolormap,\n\u001b[0;32m   1091\u001b[0m     color\u001b[39m=\u001b[39;49mcolor,\n\u001b[0;32m   1092\u001b[0m )\n",
      "File \u001b[1;32mc:\\Users\\migue\\miniconda3\\envs\\merca\\Lib\\site-packages\\pandas\\plotting\\_matplotlib\\style.py:70\u001b[0m, in \u001b[0;36mget_standard_colors\u001b[1;34m(num_colors, colormap, color_type, color)\u001b[0m\n\u001b[0;32m     67\u001b[0m \u001b[39mif\u001b[39;00m \u001b[39misinstance\u001b[39m(color, \u001b[39mdict\u001b[39m):\n\u001b[0;32m     68\u001b[0m     \u001b[39mreturn\u001b[39;00m color\n\u001b[1;32m---> 70\u001b[0m colors \u001b[39m=\u001b[39m _derive_colors(\n\u001b[0;32m     71\u001b[0m     color\u001b[39m=\u001b[39;49mcolor,\n\u001b[0;32m     72\u001b[0m     colormap\u001b[39m=\u001b[39;49mcolormap,\n\u001b[0;32m     73\u001b[0m     color_type\u001b[39m=\u001b[39;49mcolor_type,\n\u001b[0;32m     74\u001b[0m     num_colors\u001b[39m=\u001b[39;49mnum_colors,\n\u001b[0;32m     75\u001b[0m )\n\u001b[0;32m     77\u001b[0m \u001b[39mreturn\u001b[39;00m \u001b[39mlist\u001b[39m(_cycle_colors(colors, num_colors\u001b[39m=\u001b[39mnum_colors))\n",
      "File \u001b[1;32mc:\\Users\\migue\\miniconda3\\envs\\merca\\Lib\\site-packages\\pandas\\plotting\\_matplotlib\\style.py:127\u001b[0m, in \u001b[0;36m_derive_colors\u001b[1;34m(color, colormap, color_type, num_colors)\u001b[0m\n\u001b[0;32m    122\u001b[0m     \u001b[39mif\u001b[39;00m colormap \u001b[39mis\u001b[39;00m \u001b[39mnot\u001b[39;00m \u001b[39mNone\u001b[39;00m:\n\u001b[0;32m    123\u001b[0m         warnings\u001b[39m.\u001b[39mwarn(\n\u001b[0;32m    124\u001b[0m             \u001b[39m\"\u001b[39m\u001b[39m'\u001b[39m\u001b[39mcolor\u001b[39m\u001b[39m'\u001b[39m\u001b[39m and \u001b[39m\u001b[39m'\u001b[39m\u001b[39mcolormap\u001b[39m\u001b[39m'\u001b[39m\u001b[39m cannot be used simultaneously. Using \u001b[39m\u001b[39m'\u001b[39m\u001b[39mcolor\u001b[39m\u001b[39m'\u001b[39m\u001b[39m\"\u001b[39m,\n\u001b[0;32m    125\u001b[0m             stacklevel\u001b[39m=\u001b[39mfind_stack_level(),\n\u001b[0;32m    126\u001b[0m         )\n\u001b[1;32m--> 127\u001b[0m     \u001b[39mreturn\u001b[39;00m _get_colors_from_color(color)\n\u001b[0;32m    128\u001b[0m \u001b[39melse\u001b[39;00m:\n\u001b[0;32m    129\u001b[0m     \u001b[39mreturn\u001b[39;00m _get_colors_from_color_type(color_type, num_colors\u001b[39m=\u001b[39mnum_colors)\n",
      "File \u001b[1;32mc:\\Users\\migue\\miniconda3\\envs\\merca\\Lib\\site-packages\\pandas\\plotting\\_matplotlib\\style.py:173\u001b[0m, in \u001b[0;36m_get_colors_from_color\u001b[1;34m(color)\u001b[0m\n\u001b[0;32m    170\u001b[0m     \u001b[39mreturn\u001b[39;00m [color]\n\u001b[0;32m    172\u001b[0m color \u001b[39m=\u001b[39m cast(Collection[Color], color)\n\u001b[1;32m--> 173\u001b[0m \u001b[39mreturn\u001b[39;00m \u001b[39mlist\u001b[39;49m(_gen_list_of_colors_from_iterable(color))\n",
      "File \u001b[1;32mc:\\Users\\migue\\miniconda3\\envs\\merca\\Lib\\site-packages\\pandas\\plotting\\_matplotlib\\style.py:206\u001b[0m, in \u001b[0;36m_gen_list_of_colors_from_iterable\u001b[1;34m(color)\u001b[0m\n\u001b[0;32m    204\u001b[0m     \u001b[39myield\u001b[39;00m x\n\u001b[0;32m    205\u001b[0m \u001b[39melse\u001b[39;00m:\n\u001b[1;32m--> 206\u001b[0m     \u001b[39mraise\u001b[39;00m \u001b[39mValueError\u001b[39;00m(\u001b[39mf\u001b[39m\u001b[39m\"\u001b[39m\u001b[39mInvalid color \u001b[39m\u001b[39m{\u001b[39;00mx\u001b[39m}\u001b[39;00m\u001b[39m\"\u001b[39m)\n",
      "\u001b[1;31mValueError\u001b[0m: Invalid color Botifarrón de carne"
     ]
    },
    {
     "data": {
      "image/png": "[encoded data removed]",
      "text/plain": [
       "<Figure size 640x480 with 1 Axes>"
      ]
     },
     "metadata": {},
     "output_type": "display_data"
    }
   ],
   "source": [
    "ax = df.plot.line(x=\"ymd\", y=\"price_instructions.unit_price\", marker=\"o\", color=df['display_name'])\n",
    "ax.set_xlabel(\"Date (ymd)\")\n",
    "ax.set_ylabel(\"Unit Price\")\n",
    "ax.set_title(\"Unit Price vs. Date\")\n",
    "plt.show()"
   ]
  },
  {
   "cell_type": "code",
   "execution_count": 107,
   "metadata": {},
   "outputs": [
    {
     "data": {
      "text/html": [
       "<div>\n",
       "<style scoped>\n",
       "    .dataframe tbody tr th:only-of-type {\n",
       "        vertical-align: middle;\n",
       "    }\n",
       "\n",
       "    .dataframe tbody tr th {\n",
       "        vertical-align: top;\n",
       "    }\n",
       "\n",
       "    .dataframe thead th {\n",
       "        text-align: right;\n",
       "    }\n",
       "</style>\n",
       "<table border=\"1\" class=\"dataframe\">\n",
       "  <thead>\n",
       "    <tr style=\"text-align: right;\">\n",
       "      <th></th>\n",
       "      <th>id</th>\n",
       "      <th>ean</th>\n",
       "      <th>l1</th>\n",
       "      <th>l1_name</th>\n",
       "      <th>l2</th>\n",
       "      <th>l2_name</th>\n",
       "      <th>l3</th>\n",
       "      <th>l3_name</th>\n",
       "      <th>hash</th>\n",
       "      <th>ymd</th>\n",
       "    </tr>\n",
       "  </thead>\n",
       "  <tbody>\n",
       "    <tr>\n",
       "      <th>0</th>\n",
       "      <td>1393.0</td>\n",
       "      <td>8.421610e+12</td>\n",
       "      <td>3</td>\n",
       "      <td>Carne</td>\n",
       "      <td>43</td>\n",
       "      <td>Embutido</td>\n",
       "      <td>286</td>\n",
       "      <td>Embutido</td>\n",
       "      <td>94282dfe6dd3012645f7b1e950ec9fef</td>\n",
       "      <td>20240423</td>\n",
       "    </tr>\n",
       "    <tr>\n",
       "      <th>1</th>\n",
       "      <td>1564.0</td>\n",
       "      <td>8.421384e+12</td>\n",
       "      <td>3</td>\n",
       "      <td>Carne</td>\n",
       "      <td>45</td>\n",
       "      <td>Empanados y elaborados</td>\n",
       "      <td>288</td>\n",
       "      <td>Empanados y elaborados</td>\n",
       "      <td>31a4bc1dddd58cbc0dafb7c1728640d8</td>\n",
       "      <td>20240423</td>\n",
       "    </tr>\n",
       "    <tr>\n",
       "      <th>2</th>\n",
       "      <td>1892.0</td>\n",
       "      <td>8.426460e+12</td>\n",
       "      <td>3</td>\n",
       "      <td>Carne</td>\n",
       "      <td>46</td>\n",
       "      <td>Arreglos</td>\n",
       "      <td>289</td>\n",
       "      <td>Arreglos</td>\n",
       "      <td>d3228ad72f8e20f82f9012c967b6edd6</td>\n",
       "      <td>20240423</td>\n",
       "    </tr>\n",
       "    <tr>\n",
       "      <th>3</th>\n",
       "      <td>1908.0</td>\n",
       "      <td>8.480000e+12</td>\n",
       "      <td>20</td>\n",
       "      <td>Cuidado facial y corporal</td>\n",
       "      <td>186</td>\n",
       "      <td>Higiene bucal</td>\n",
       "      <td>600</td>\n",
       "      <td>Cepillo de dientes</td>\n",
       "      <td>ac0d52336e321984a3afc8a0ea987838</td>\n",
       "      <td>20240423</td>\n",
       "    </tr>\n",
       "    <tr>\n",
       "      <th>4</th>\n",
       "      <td>1914.0</td>\n",
       "      <td>8.480000e+12</td>\n",
       "      <td>26</td>\n",
       "      <td>Limpieza y hogar</td>\n",
       "      <td>239</td>\n",
       "      <td>Pilas y bolsas de basura</td>\n",
       "      <td>781</td>\n",
       "      <td>Pilas</td>\n",
       "      <td>e78020465bf6b9c594e8ee0cfc918576</td>\n",
       "      <td>20240423</td>\n",
       "    </tr>\n",
       "    <tr>\n",
       "      <th>...</th>\n",
       "      <td>...</td>\n",
       "      <td>...</td>\n",
       "      <td>...</td>\n",
       "      <td>...</td>\n",
       "      <td>...</td>\n",
       "      <td>...</td>\n",
       "      <td>...</td>\n",
       "      <td>...</td>\n",
       "      <td>...</td>\n",
       "      <td>...</td>\n",
       "    </tr>\n",
       "    <tr>\n",
       "      <th>4799</th>\n",
       "      <td>90794.0</td>\n",
       "      <td>8.414580e+12</td>\n",
       "      <td>25</td>\n",
       "      <td>Mascotas</td>\n",
       "      <td>221</td>\n",
       "      <td>Perro</td>\n",
       "      <td>714</td>\n",
       "      <td>Aseo y cuidado</td>\n",
       "      <td>f513168dc27870253febf64cce09e34f</td>\n",
       "      <td>20240423</td>\n",
       "    </tr>\n",
       "    <tr>\n",
       "      <th>4800</th>\n",
       "      <td>90933.0</td>\n",
       "      <td>8.480001e+12</td>\n",
       "      <td>6</td>\n",
       "      <td>Huevos, leche y mantequilla</td>\n",
       "      <td>75</td>\n",
       "      <td>Mantequilla y margarina</td>\n",
       "      <td>351</td>\n",
       "      <td>Mantequilla</td>\n",
       "      <td>eb0caf23601ce14d31c7a48963a3494c</td>\n",
       "      <td>20240423</td>\n",
       "    </tr>\n",
       "    <tr>\n",
       "      <th>4801</th>\n",
       "      <td>90947.0</td>\n",
       "      <td>6.950120e+12</td>\n",
       "      <td>25</td>\n",
       "      <td>Mascotas</td>\n",
       "      <td>222</td>\n",
       "      <td>Gato</td>\n",
       "      <td>718</td>\n",
       "      <td>Aseo y cuidado</td>\n",
       "      <td>0564f93bf823ebb046b2896adba477d7</td>\n",
       "      <td>20240423</td>\n",
       "    </tr>\n",
       "    <tr>\n",
       "      <th>4802</th>\n",
       "      <td>92998.0</td>\n",
       "      <td>8.424466e+12</td>\n",
       "      <td>5</td>\n",
       "      <td>Panadería y pastelería</td>\n",
       "      <td>59</td>\n",
       "      <td>Pan de horno</td>\n",
       "      <td>317</td>\n",
       "      <td>Pan de bocadillo</td>\n",
       "      <td>a44ea37eb44cc105a16053b98f6f7e64</td>\n",
       "      <td>20240423</td>\n",
       "    </tr>\n",
       "    <tr>\n",
       "      <th>4803</th>\n",
       "      <td>95730.0</td>\n",
       "      <td>8.480001e+12</td>\n",
       "      <td>22</td>\n",
       "      <td>Maquillaje</td>\n",
       "      <td>208</td>\n",
       "      <td>Labios</td>\n",
       "      <td>599</td>\n",
       "      <td>Cuidado</td>\n",
       "      <td>3e285bf6d999cd9cae9cba7770658a9b</td>\n",
       "      <td>20240423</td>\n",
       "    </tr>\n",
       "  </tbody>\n",
       "</table>\n",
       "<p>4804 rows × 10 columns</p>\n",
       "</div>"
      ],
      "text/plain": [
       "           id           ean  l1                      l1_name   l2  \\\n",
       "0      1393.0  8.421610e+12   3                        Carne   43   \n",
       "1      1564.0  8.421384e+12   3                        Carne   45   \n",
       "2      1892.0  8.426460e+12   3                        Carne   46   \n",
       "3      1908.0  8.480000e+12  20    Cuidado facial y corporal  186   \n",
       "4      1914.0  8.480000e+12  26             Limpieza y hogar  239   \n",
       "...       ...           ...  ..                          ...  ...   \n",
       "4799  90794.0  8.414580e+12  25                     Mascotas  221   \n",
       "4800  90933.0  8.480001e+12   6  Huevos, leche y mantequilla   75   \n",
       "4801  90947.0  6.950120e+12  25                     Mascotas  222   \n",
       "4802  92998.0  8.424466e+12   5       Panadería y pastelería   59   \n",
       "4803  95730.0  8.480001e+12  22                   Maquillaje  208   \n",
       "\n",
       "                       l2_name   l3                 l3_name  \\\n",
       "0                     Embutido  286                Embutido   \n",
       "1       Empanados y elaborados  288  Empanados y elaborados   \n",
       "2                     Arreglos  289                Arreglos   \n",
       "3                Higiene bucal  600      Cepillo de dientes   \n",
       "4     Pilas y bolsas de basura  781                   Pilas   \n",
       "...                        ...  ...                     ...   \n",
       "4799                     Perro  714          Aseo y cuidado   \n",
       "4800   Mantequilla y margarina  351             Mantequilla   \n",
       "4801                      Gato  718          Aseo y cuidado   \n",
       "4802              Pan de horno  317        Pan de bocadillo   \n",
       "4803                    Labios  599                 Cuidado   \n",
       "\n",
       "                                  hash       ymd  \n",
       "0     94282dfe6dd3012645f7b1e950ec9fef  20240423  \n",
       "1     31a4bc1dddd58cbc0dafb7c1728640d8  20240423  \n",
       "2     d3228ad72f8e20f82f9012c967b6edd6  20240423  \n",
       "3     ac0d52336e321984a3afc8a0ea987838  20240423  \n",
       "4     e78020465bf6b9c594e8ee0cfc918576  20240423  \n",
       "...                                ...       ...  \n",
       "4799  f513168dc27870253febf64cce09e34f  20240423  \n",
       "4800  eb0caf23601ce14d31c7a48963a3494c  20240423  \n",
       "4801  0564f93bf823ebb046b2896adba477d7  20240423  \n",
       "4802  a44ea37eb44cc105a16053b98f6f7e64  20240423  \n",
       "4803  3e285bf6d999cd9cae9cba7770658a9b  20240423  \n",
       "\n",
       "[4804 rows x 10 columns]"
      ]
     },
     "execution_count": 107,
     "metadata": {},
     "output_type": "execute_result"
    }
   ],
   "source": [
    "pd.read_sql(\"\"\"SELECT *\n",
    "    FROM ids_categories\n",
    "    group by id having count(id)>1 ;\"\"\", conn)"
   ]
  },
  {
   "cell_type": "code",
   "execution_count": 140,
   "metadata": {},
   "outputs": [
    {
     "data": {
      "text/html": [
       "<div>\n",
       "<style scoped>\n",
       "    .dataframe tbody tr th:only-of-type {\n",
       "        vertical-align: middle;\n",
       "    }\n",
       "\n",
       "    .dataframe tbody tr th {\n",
       "        vertical-align: top;\n",
       "    }\n",
       "\n",
       "    .dataframe thead th {\n",
       "        text-align: right;\n",
       "    }\n",
       "</style>\n",
       "<table border=\"1\" class=\"dataframe\">\n",
       "  <thead>\n",
       "    <tr style=\"text-align: right;\">\n",
       "      <th></th>\n",
       "      <th>id</th>\n",
       "      <th>display_name</th>\n",
       "      <th>price_instructions.unit_price</th>\n",
       "      <th>ymd</th>\n",
       "    </tr>\n",
       "  </thead>\n",
       "  <tbody>\n",
       "    <tr>\n",
       "      <th>11408</th>\n",
       "      <td>1393.0</td>\n",
       "      <td>Botifarrón de carne</td>\n",
       "      <td>2.62</td>\n",
       "      <td>20240423</td>\n",
       "    </tr>\n",
       "    <tr>\n",
       "      <th>14187</th>\n",
       "      <td>1564.0</td>\n",
       "      <td>Costilla de cerdo ibérico adobada</td>\n",
       "      <td>3.43</td>\n",
       "      <td>20240423</td>\n",
       "    </tr>\n",
       "    <tr>\n",
       "      <th>6717</th>\n",
       "      <td>1892.0</td>\n",
       "      <td>Hueso blanco de cerdo salado</td>\n",
       "      <td>1.49</td>\n",
       "      <td>20240423</td>\n",
       "    </tr>\n",
       "    <tr>\n",
       "      <th>16625</th>\n",
       "      <td>1908.0</td>\n",
       "      <td>Recambios cepillo dental Eléctrico</td>\n",
       "      <td>3.85</td>\n",
       "      <td>20240423</td>\n",
       "    </tr>\n",
       "    <tr>\n",
       "      <th>16558</th>\n",
       "      <td>1914.0</td>\n",
       "      <td>Pila recargable AA Bosque Verde</td>\n",
       "      <td>7.90</td>\n",
       "      <td>20240423</td>\n",
       "    </tr>\n",
       "    <tr>\n",
       "      <th>...</th>\n",
       "      <td>...</td>\n",
       "      <td>...</td>\n",
       "      <td>...</td>\n",
       "      <td>...</td>\n",
       "    </tr>\n",
       "    <tr>\n",
       "      <th>16119</th>\n",
       "      <td>90794.0</td>\n",
       "      <td>Agua de colonia para perros y gatos Krislin</td>\n",
       "      <td>3.40</td>\n",
       "      <td>20240423</td>\n",
       "    </tr>\n",
       "    <tr>\n",
       "      <th>14012</th>\n",
       "      <td>90933.0</td>\n",
       "      <td>Mantequilla light Hacendado</td>\n",
       "      <td>2.10</td>\n",
       "      <td>20240423</td>\n",
       "    </tr>\n",
       "    <tr>\n",
       "      <th>11429</th>\n",
       "      <td>90947.0</td>\n",
       "      <td>Arena para gato de perlas sílice Single</td>\n",
       "      <td>3.55</td>\n",
       "      <td>20240423</td>\n",
       "    </tr>\n",
       "    <tr>\n",
       "      <th>13194</th>\n",
       "      <td>92998.0</td>\n",
       "      <td>Panecillo sin sal añadida</td>\n",
       "      <td>0.40</td>\n",
       "      <td>20240423</td>\n",
       "    </tr>\n",
       "    <tr>\n",
       "      <th>16188</th>\n",
       "      <td>95730.0</td>\n",
       "      <td>Vaselina perfumada para labios Deliplus frambuesa</td>\n",
       "      <td>1.60</td>\n",
       "      <td>20240423</td>\n",
       "    </tr>\n",
       "  </tbody>\n",
       "</table>\n",
       "<p>5798 rows × 4 columns</p>\n",
       "</div>"
      ],
      "text/plain": [
       "            id                                       display_name  \\\n",
       "11408   1393.0                                Botifarrón de carne   \n",
       "14187   1564.0                  Costilla de cerdo ibérico adobada   \n",
       "6717    1892.0                       Hueso blanco de cerdo salado   \n",
       "16625   1908.0                 Recambios cepillo dental Eléctrico   \n",
       "16558   1914.0                    Pila recargable AA Bosque Verde   \n",
       "...        ...                                                ...   \n",
       "16119  90794.0        Agua de colonia para perros y gatos Krislin   \n",
       "14012  90933.0                        Mantequilla light Hacendado   \n",
       "11429  90947.0            Arena para gato de perlas sílice Single   \n",
       "13194  92998.0                          Panecillo sin sal añadida   \n",
       "16188  95730.0  Vaselina perfumada para labios Deliplus frambuesa   \n",
       "\n",
       "       price_instructions.unit_price       ymd  \n",
       "11408                           2.62  20240423  \n",
       "14187                           3.43  20240423  \n",
       "6717                            1.49  20240423  \n",
       "16625                           3.85  20240423  \n",
       "16558                           7.90  20240423  \n",
       "...                              ...       ...  \n",
       "16119                           3.40  20240423  \n",
       "14012                           2.10  20240423  \n",
       "11429                           3.55  20240423  \n",
       "13194                           0.40  20240423  \n",
       "16188                           1.60  20240423  \n",
       "\n",
       "[5798 rows x 4 columns]"
      ]
     },
     "execution_count": 140,
     "metadata": {},
     "output_type": "execute_result"
    }
   ],
   "source": [
    "\n",
    "df = pd.read_sql(\"\"\"SELECT id, display_name, [price_instructions.unit_price], prices.ymd\n",
    "    FROM prices LEFT JOIN products\n",
    "    USING(id) LEFT JOIN ids_categories USING(id);\"\"\", conn).sort_values(by=['id']).drop_duplicates(subset=['id', 'ymd'])\n",
    "df\n",
    "# px.line(df, x=\"ymd\", y=\"price_instructions.unit_price\", color=\"display_name\")\n",
    "# lines = df.plot.line()\n",
    "# df.set_index('display_name')[['ymd', 'price_instructions.unit_price']].plot()\n",
    "\n",
    "# grouped_df = df.groupby('display_name')['price_instructions.unit_price'].mean()\n",
    "\n",
    "# # Create a bar plot\n",
    "# grouped_df.plot(kind='bar', figsize=(10, 6))\n",
    "# plt.xlabel('Display Name')\n",
    "# plt.ylabel('Unit Price')\n",
    "# plt.title('Average Unit Price by Display Name')\n",
    "# plt.show()"
   ]
  },
  {
   "cell_type": "code",
   "execution_count": 142,
   "metadata": {},
   "outputs": [
    {
     "data": {
      "text/html": [
       "<div>\n",
       "<style scoped>\n",
       "    .dataframe tbody tr th:only-of-type {\n",
       "        vertical-align: middle;\n",
       "    }\n",
       "\n",
       "    .dataframe tbody tr th {\n",
       "        vertical-align: top;\n",
       "    }\n",
       "\n",
       "    .dataframe thead th {\n",
       "        text-align: right;\n",
       "    }\n",
       "</style>\n",
       "<table border=\"1\" class=\"dataframe\">\n",
       "  <thead>\n",
       "    <tr style=\"text-align: right;\">\n",
       "      <th></th>\n",
       "      <th>id</th>\n",
       "      <th>display_name</th>\n",
       "      <th>price_instructions.unit_price</th>\n",
       "      <th>ymd</th>\n",
       "    </tr>\n",
       "  </thead>\n",
       "  <tbody>\n",
       "    <tr>\n",
       "      <th>19688</th>\n",
       "      <td>3076.0</td>\n",
       "      <td>Piña</td>\n",
       "      <td>3.36</td>\n",
       "      <td>20240503</td>\n",
       "    </tr>\n",
       "    <tr>\n",
       "      <th>21160</th>\n",
       "      <td>3076.0</td>\n",
       "      <td>Piña</td>\n",
       "      <td>3.27</td>\n",
       "      <td>20240508</td>\n",
       "    </tr>\n",
       "    <tr>\n",
       "      <th>17309</th>\n",
       "      <td>3076.0</td>\n",
       "      <td>Piña</td>\n",
       "      <td>3.61</td>\n",
       "      <td>20240424</td>\n",
       "    </tr>\n",
       "    <tr>\n",
       "      <th>18332</th>\n",
       "      <td>3076.0</td>\n",
       "      <td>Piña</td>\n",
       "      <td>3.71</td>\n",
       "      <td>20240428</td>\n",
       "    </tr>\n",
       "    <tr>\n",
       "      <th>13087</th>\n",
       "      <td>3076.0</td>\n",
       "      <td>Piña</td>\n",
       "      <td>3.57</td>\n",
       "      <td>20240423</td>\n",
       "    </tr>\n",
       "    <tr>\n",
       "      <th>...</th>\n",
       "      <td>...</td>\n",
       "      <td>...</td>\n",
       "      <td>...</td>\n",
       "      <td>...</td>\n",
       "    </tr>\n",
       "    <tr>\n",
       "      <th>20747</th>\n",
       "      <td>83692.5</td>\n",
       "      <td>Caballa Verdel abierta a la espalda con espina...</td>\n",
       "      <td>3.42</td>\n",
       "      <td>20240507</td>\n",
       "    </tr>\n",
       "    <tr>\n",
       "      <th>17311</th>\n",
       "      <td>83692.5</td>\n",
       "      <td>Caballa Verdel abierta a la espalda con espina...</td>\n",
       "      <td>2.03</td>\n",
       "      <td>20240424</td>\n",
       "    </tr>\n",
       "    <tr>\n",
       "      <th>18760</th>\n",
       "      <td>83692.5</td>\n",
       "      <td>Caballa Verdel abierta a la espalda con espina...</td>\n",
       "      <td>2.56</td>\n",
       "      <td>20240429</td>\n",
       "    </tr>\n",
       "    <tr>\n",
       "      <th>20618</th>\n",
       "      <td>83692.5</td>\n",
       "      <td>Caballa Verdel abierta a la espalda con espina...</td>\n",
       "      <td>2.92</td>\n",
       "      <td>20240504</td>\n",
       "    </tr>\n",
       "    <tr>\n",
       "      <th>17632</th>\n",
       "      <td>83692.5</td>\n",
       "      <td>Caballa Verdel abierta a la espalda con espina...</td>\n",
       "      <td>2.08</td>\n",
       "      <td>20240425</td>\n",
       "    </tr>\n",
       "  </tbody>\n",
       "</table>\n",
       "<p>440 rows × 4 columns</p>\n",
       "</div>"
      ],
      "text/plain": [
       "            id                                       display_name  \\\n",
       "19688   3076.0                                               Piña   \n",
       "21160   3076.0                                               Piña   \n",
       "17309   3076.0                                               Piña   \n",
       "18332   3076.0                                               Piña   \n",
       "13087   3076.0                                               Piña   \n",
       "...        ...                                                ...   \n",
       "20747  83692.5  Caballa Verdel abierta a la espalda con espina...   \n",
       "17311  83692.5  Caballa Verdel abierta a la espalda con espina...   \n",
       "18760  83692.5  Caballa Verdel abierta a la espalda con espina...   \n",
       "20618  83692.5  Caballa Verdel abierta a la espalda con espina...   \n",
       "17632  83692.5  Caballa Verdel abierta a la espalda con espina...   \n",
       "\n",
       "       price_instructions.unit_price       ymd  \n",
       "19688                           3.36  20240503  \n",
       "21160                           3.27  20240508  \n",
       "17309                           3.61  20240424  \n",
       "18332                           3.71  20240428  \n",
       "13087                           3.57  20240423  \n",
       "...                              ...       ...  \n",
       "20747                           3.42  20240507  \n",
       "17311                           2.03  20240424  \n",
       "18760                           2.56  20240429  \n",
       "20618                           2.92  20240504  \n",
       "17632                           2.08  20240425  \n",
       "\n",
       "[440 rows x 4 columns]"
      ]
     },
     "execution_count": 142,
     "metadata": {},
     "output_type": "execute_result"
    }
   ],
   "source": [
    "import pandas as pd\n",
    "\n",
    "# Assuming your DataFrame is 'df' and the id column is 'id'\n",
    "df = df.groupby('id').filter(lambda x: len(x) > 5)[['id', 'display_name', 'price_instructions.unit_price', 'ymd']]\n",
    "df\n"
   ]
  },
  {
   "cell_type": "code",
   "execution_count": 159,
   "metadata": {},
   "outputs": [
    {
     "ename": "TypeError",
     "evalue": "agg function failed [how->mean,dtype->object]",
     "output_type": "error",
     "traceback": [
      "\u001b[1;31m---------------------------------------------------------------------------\u001b[0m",
      "\u001b[1;31mTypeError\u001b[0m                                 Traceback (most recent call last)",
      "File \u001b[1;32mc:\\Users\\migue\\miniconda3\\envs\\merca\\Lib\\site-packages\\pandas\\core\\groupby\\groupby.py:1942\u001b[0m, in \u001b[0;36mGroupBy._agg_py_fallback\u001b[1;34m(self, how, values, ndim, alt)\u001b[0m\n\u001b[0;32m   1941\u001b[0m \u001b[39mtry\u001b[39;00m:\n\u001b[1;32m-> 1942\u001b[0m     res_values \u001b[39m=\u001b[39m \u001b[39mself\u001b[39;49m\u001b[39m.\u001b[39;49m_grouper\u001b[39m.\u001b[39;49magg_series(ser, alt, preserve_dtype\u001b[39m=\u001b[39;49m\u001b[39mTrue\u001b[39;49;00m)\n\u001b[0;32m   1943\u001b[0m \u001b[39mexcept\u001b[39;00m \u001b[39mException\u001b[39;00m \u001b[39mas\u001b[39;00m err:\n",
      "File \u001b[1;32mc:\\Users\\migue\\miniconda3\\envs\\merca\\Lib\\site-packages\\pandas\\core\\groupby\\ops.py:864\u001b[0m, in \u001b[0;36mBaseGrouper.agg_series\u001b[1;34m(self, obj, func, preserve_dtype)\u001b[0m\n\u001b[0;32m    862\u001b[0m     preserve_dtype \u001b[39m=\u001b[39m \u001b[39mTrue\u001b[39;00m\n\u001b[1;32m--> 864\u001b[0m result \u001b[39m=\u001b[39m \u001b[39mself\u001b[39;49m\u001b[39m.\u001b[39;49m_aggregate_series_pure_python(obj, func)\n\u001b[0;32m    866\u001b[0m npvalues \u001b[39m=\u001b[39m lib\u001b[39m.\u001b[39mmaybe_convert_objects(result, try_float\u001b[39m=\u001b[39m\u001b[39mFalse\u001b[39;00m)\n",
      "File \u001b[1;32mc:\\Users\\migue\\miniconda3\\envs\\merca\\Lib\\site-packages\\pandas\\core\\groupby\\ops.py:885\u001b[0m, in \u001b[0;36mBaseGrouper._aggregate_series_pure_python\u001b[1;34m(self, obj, func)\u001b[0m\n\u001b[0;32m    884\u001b[0m \u001b[39mfor\u001b[39;00m i, group \u001b[39min\u001b[39;00m \u001b[39menumerate\u001b[39m(splitter):\n\u001b[1;32m--> 885\u001b[0m     res \u001b[39m=\u001b[39m func(group)\n\u001b[0;32m    886\u001b[0m     res \u001b[39m=\u001b[39m extract_result(res)\n",
      "File \u001b[1;32mc:\\Users\\migue\\miniconda3\\envs\\merca\\Lib\\site-packages\\pandas\\core\\groupby\\groupby.py:2454\u001b[0m, in \u001b[0;36mGroupBy.mean.<locals>.<lambda>\u001b[1;34m(x)\u001b[0m\n\u001b[0;32m   2451\u001b[0m \u001b[39melse\u001b[39;00m:\n\u001b[0;32m   2452\u001b[0m     result \u001b[39m=\u001b[39m \u001b[39mself\u001b[39m\u001b[39m.\u001b[39m_cython_agg_general(\n\u001b[0;32m   2453\u001b[0m         \u001b[39m\"\u001b[39m\u001b[39mmean\u001b[39m\u001b[39m\"\u001b[39m,\n\u001b[1;32m-> 2454\u001b[0m         alt\u001b[39m=\u001b[39m\u001b[39mlambda\u001b[39;00m x: Series(x, copy\u001b[39m=\u001b[39;49m\u001b[39mFalse\u001b[39;49;00m)\u001b[39m.\u001b[39;49mmean(numeric_only\u001b[39m=\u001b[39;49mnumeric_only),\n\u001b[0;32m   2455\u001b[0m         numeric_only\u001b[39m=\u001b[39mnumeric_only,\n\u001b[0;32m   2456\u001b[0m     )\n\u001b[0;32m   2457\u001b[0m     \u001b[39mreturn\u001b[39;00m result\u001b[39m.\u001b[39m__finalize__(\u001b[39mself\u001b[39m\u001b[39m.\u001b[39mobj, method\u001b[39m=\u001b[39m\u001b[39m\"\u001b[39m\u001b[39mgroupby\u001b[39m\u001b[39m\"\u001b[39m)\n",
      "File \u001b[1;32mc:\\Users\\migue\\miniconda3\\envs\\merca\\Lib\\site-packages\\pandas\\core\\series.py:6549\u001b[0m, in \u001b[0;36mSeries.mean\u001b[1;34m(self, axis, skipna, numeric_only, **kwargs)\u001b[0m\n\u001b[0;32m   6541\u001b[0m \u001b[39m@doc\u001b[39m(make_doc(\u001b[39m\"\u001b[39m\u001b[39mmean\u001b[39m\u001b[39m\"\u001b[39m, ndim\u001b[39m=\u001b[39m\u001b[39m1\u001b[39m))\n\u001b[0;32m   6542\u001b[0m \u001b[39mdef\u001b[39;00m \u001b[39mmean\u001b[39m(\n\u001b[0;32m   6543\u001b[0m     \u001b[39mself\u001b[39m,\n\u001b[1;32m   (...)\u001b[0m\n\u001b[0;32m   6547\u001b[0m     \u001b[39m*\u001b[39m\u001b[39m*\u001b[39mkwargs,\n\u001b[0;32m   6548\u001b[0m ):\n\u001b[1;32m-> 6549\u001b[0m     \u001b[39mreturn\u001b[39;00m NDFrame\u001b[39m.\u001b[39;49mmean(\u001b[39mself\u001b[39;49m, axis, skipna, numeric_only, \u001b[39m*\u001b[39;49m\u001b[39m*\u001b[39;49mkwargs)\n",
      "File \u001b[1;32mc:\\Users\\migue\\miniconda3\\envs\\merca\\Lib\\site-packages\\pandas\\core\\generic.py:12420\u001b[0m, in \u001b[0;36mNDFrame.mean\u001b[1;34m(self, axis, skipna, numeric_only, **kwargs)\u001b[0m\n\u001b[0;32m  12413\u001b[0m \u001b[39mdef\u001b[39;00m \u001b[39mmean\u001b[39m(\n\u001b[0;32m  12414\u001b[0m     \u001b[39mself\u001b[39m,\n\u001b[0;32m  12415\u001b[0m     axis: Axis \u001b[39m|\u001b[39m \u001b[39mNone\u001b[39;00m \u001b[39m=\u001b[39m \u001b[39m0\u001b[39m,\n\u001b[1;32m   (...)\u001b[0m\n\u001b[0;32m  12418\u001b[0m     \u001b[39m*\u001b[39m\u001b[39m*\u001b[39mkwargs,\n\u001b[0;32m  12419\u001b[0m ) \u001b[39m-\u001b[39m\u001b[39m>\u001b[39m Series \u001b[39m|\u001b[39m \u001b[39mfloat\u001b[39m:\n\u001b[1;32m> 12420\u001b[0m     \u001b[39mreturn\u001b[39;00m \u001b[39mself\u001b[39;49m\u001b[39m.\u001b[39;49m_stat_function(\n\u001b[0;32m  12421\u001b[0m         \u001b[39m\"\u001b[39;49m\u001b[39mmean\u001b[39;49m\u001b[39m\"\u001b[39;49m, nanops\u001b[39m.\u001b[39;49mnanmean, axis, skipna, numeric_only, \u001b[39m*\u001b[39;49m\u001b[39m*\u001b[39;49mkwargs\n\u001b[0;32m  12422\u001b[0m     )\n",
      "File \u001b[1;32mc:\\Users\\migue\\miniconda3\\envs\\merca\\Lib\\site-packages\\pandas\\core\\generic.py:12377\u001b[0m, in \u001b[0;36mNDFrame._stat_function\u001b[1;34m(self, name, func, axis, skipna, numeric_only, **kwargs)\u001b[0m\n\u001b[0;32m  12375\u001b[0m validate_bool_kwarg(skipna, \u001b[39m\"\u001b[39m\u001b[39mskipna\u001b[39m\u001b[39m\"\u001b[39m, none_allowed\u001b[39m=\u001b[39m\u001b[39mFalse\u001b[39;00m)\n\u001b[1;32m> 12377\u001b[0m \u001b[39mreturn\u001b[39;00m \u001b[39mself\u001b[39;49m\u001b[39m.\u001b[39;49m_reduce(\n\u001b[0;32m  12378\u001b[0m     func, name\u001b[39m=\u001b[39;49mname, axis\u001b[39m=\u001b[39;49maxis, skipna\u001b[39m=\u001b[39;49mskipna, numeric_only\u001b[39m=\u001b[39;49mnumeric_only\n\u001b[0;32m  12379\u001b[0m )\n",
      "File \u001b[1;32mc:\\Users\\migue\\miniconda3\\envs\\merca\\Lib\\site-packages\\pandas\\core\\series.py:6457\u001b[0m, in \u001b[0;36mSeries._reduce\u001b[1;34m(self, op, name, axis, skipna, numeric_only, filter_type, **kwds)\u001b[0m\n\u001b[0;32m   6453\u001b[0m     \u001b[39mraise\u001b[39;00m \u001b[39mTypeError\u001b[39;00m(\n\u001b[0;32m   6454\u001b[0m         \u001b[39mf\u001b[39m\u001b[39m\"\u001b[39m\u001b[39mSeries.\u001b[39m\u001b[39m{\u001b[39;00mname\u001b[39m}\u001b[39;00m\u001b[39m does not allow \u001b[39m\u001b[39m{\u001b[39;00mkwd_name\u001b[39m}\u001b[39;00m\u001b[39m=\u001b[39m\u001b[39m{\u001b[39;00mnumeric_only\u001b[39m}\u001b[39;00m\u001b[39m \u001b[39m\u001b[39m\"\u001b[39m\n\u001b[0;32m   6455\u001b[0m         \u001b[39m\"\u001b[39m\u001b[39mwith non-numeric dtypes.\u001b[39m\u001b[39m\"\u001b[39m\n\u001b[0;32m   6456\u001b[0m     )\n\u001b[1;32m-> 6457\u001b[0m \u001b[39mreturn\u001b[39;00m op(delegate, skipna\u001b[39m=\u001b[39;49mskipna, \u001b[39m*\u001b[39;49m\u001b[39m*\u001b[39;49mkwds)\n",
      "File \u001b[1;32mc:\\Users\\migue\\miniconda3\\envs\\merca\\Lib\\site-packages\\pandas\\core\\nanops.py:147\u001b[0m, in \u001b[0;36mbottleneck_switch.__call__.<locals>.f\u001b[1;34m(values, axis, skipna, **kwds)\u001b[0m\n\u001b[0;32m    146\u001b[0m \u001b[39melse\u001b[39;00m:\n\u001b[1;32m--> 147\u001b[0m     result \u001b[39m=\u001b[39m alt(values, axis\u001b[39m=\u001b[39;49maxis, skipna\u001b[39m=\u001b[39;49mskipna, \u001b[39m*\u001b[39;49m\u001b[39m*\u001b[39;49mkwds)\n\u001b[0;32m    149\u001b[0m \u001b[39mreturn\u001b[39;00m result\n",
      "File \u001b[1;32mc:\\Users\\migue\\miniconda3\\envs\\merca\\Lib\\site-packages\\pandas\\core\\nanops.py:404\u001b[0m, in \u001b[0;36m_datetimelike_compat.<locals>.new_func\u001b[1;34m(values, axis, skipna, mask, **kwargs)\u001b[0m\n\u001b[0;32m    402\u001b[0m     mask \u001b[39m=\u001b[39m isna(values)\n\u001b[1;32m--> 404\u001b[0m result \u001b[39m=\u001b[39m func(values, axis\u001b[39m=\u001b[39;49maxis, skipna\u001b[39m=\u001b[39;49mskipna, mask\u001b[39m=\u001b[39;49mmask, \u001b[39m*\u001b[39;49m\u001b[39m*\u001b[39;49mkwargs)\n\u001b[0;32m    406\u001b[0m \u001b[39mif\u001b[39;00m datetimelike:\n",
      "File \u001b[1;32mc:\\Users\\migue\\miniconda3\\envs\\merca\\Lib\\site-packages\\pandas\\core\\nanops.py:720\u001b[0m, in \u001b[0;36mnanmean\u001b[1;34m(values, axis, skipna, mask)\u001b[0m\n\u001b[0;32m    719\u001b[0m the_sum \u001b[39m=\u001b[39m values\u001b[39m.\u001b[39msum(axis, dtype\u001b[39m=\u001b[39mdtype_sum)\n\u001b[1;32m--> 720\u001b[0m the_sum \u001b[39m=\u001b[39m _ensure_numeric(the_sum)\n\u001b[0;32m    722\u001b[0m \u001b[39mif\u001b[39;00m axis \u001b[39mis\u001b[39;00m \u001b[39mnot\u001b[39;00m \u001b[39mNone\u001b[39;00m \u001b[39mand\u001b[39;00m \u001b[39mgetattr\u001b[39m(the_sum, \u001b[39m\"\u001b[39m\u001b[39mndim\u001b[39m\u001b[39m\"\u001b[39m, \u001b[39mFalse\u001b[39;00m):\n",
      "File \u001b[1;32mc:\\Users\\migue\\miniconda3\\envs\\merca\\Lib\\site-packages\\pandas\\core\\nanops.py:1701\u001b[0m, in \u001b[0;36m_ensure_numeric\u001b[1;34m(x)\u001b[0m\n\u001b[0;32m   1699\u001b[0m \u001b[39mif\u001b[39;00m \u001b[39misinstance\u001b[39m(x, \u001b[39mstr\u001b[39m):\n\u001b[0;32m   1700\u001b[0m     \u001b[39m# GH#44008, GH#36703 avoid casting e.g. strings to numeric\u001b[39;00m\n\u001b[1;32m-> 1701\u001b[0m     \u001b[39mraise\u001b[39;00m \u001b[39mTypeError\u001b[39;00m(\u001b[39mf\u001b[39m\u001b[39m\"\u001b[39m\u001b[39mCould not convert string \u001b[39m\u001b[39m'\u001b[39m\u001b[39m{\u001b[39;00mx\u001b[39m}\u001b[39;00m\u001b[39m'\u001b[39m\u001b[39m to numeric\u001b[39m\u001b[39m\"\u001b[39m)\n\u001b[0;32m   1702\u001b[0m \u001b[39mtry\u001b[39;00m:\n",
      "\u001b[1;31mTypeError\u001b[0m: Could not convert string 'Acondicionador Liso Keratina TRESemmé cabello encrespado o dañadoAcondicionador Liso Keratina TRESemmé cabello encrespado o dañadoAcondicionador Liso Keratina TRESemmé cabello encrespado o dañado' to numeric",
      "\nThe above exception was the direct cause of the following exception:\n",
      "\u001b[1;31mTypeError\u001b[0m                                 Traceback (most recent call last)",
      "Cell \u001b[1;32mIn[159], line 1\u001b[0m\n\u001b[1;32m----> 1\u001b[0m df\u001b[39m.\u001b[39;49mgroupby(\u001b[39m'\u001b[39;49m\u001b[39mid\u001b[39;49m\u001b[39m'\u001b[39;49m)\u001b[39m.\u001b[39;49mfilter(\u001b[39mlambda\u001b[39;49;00m x: \u001b[39mlen\u001b[39;49m(x) \u001b[39m>\u001b[39;49m \u001b[39m2\u001b[39;49m)[[\u001b[39m'\u001b[39;49m\u001b[39mid\u001b[39;49m\u001b[39m'\u001b[39;49m, \u001b[39m'\u001b[39;49m\u001b[39mdisplay_name\u001b[39;49m\u001b[39m'\u001b[39;49m, \u001b[39m'\u001b[39;49m\u001b[39mprice_instructions.unit_price\u001b[39;49m\u001b[39m'\u001b[39;49m, \u001b[39m'\u001b[39;49m\u001b[39mymd\u001b[39;49m\u001b[39m'\u001b[39;49m, \u001b[39m'\u001b[39;49m\u001b[39ml3_name\u001b[39;49m\u001b[39m'\u001b[39;49m]]\u001b[39m.\u001b[39;49mgroupby(\u001b[39m'\u001b[39;49m\u001b[39ml3_name\u001b[39;49m\u001b[39m'\u001b[39;49m)\u001b[39m.\u001b[39;49mmean()\u001b[39m.\u001b[39mreset_index()\n",
      "File \u001b[1;32mc:\\Users\\migue\\miniconda3\\envs\\merca\\Lib\\site-packages\\pandas\\core\\groupby\\groupby.py:2452\u001b[0m, in \u001b[0;36mGroupBy.mean\u001b[1;34m(self, numeric_only, engine, engine_kwargs)\u001b[0m\n\u001b[0;32m   2445\u001b[0m     \u001b[39mreturn\u001b[39;00m \u001b[39mself\u001b[39m\u001b[39m.\u001b[39m_numba_agg_general(\n\u001b[0;32m   2446\u001b[0m         grouped_mean,\n\u001b[0;32m   2447\u001b[0m         executor\u001b[39m.\u001b[39mfloat_dtype_mapping,\n\u001b[0;32m   2448\u001b[0m         engine_kwargs,\n\u001b[0;32m   2449\u001b[0m         min_periods\u001b[39m=\u001b[39m\u001b[39m0\u001b[39m,\n\u001b[0;32m   2450\u001b[0m     )\n\u001b[0;32m   2451\u001b[0m \u001b[39melse\u001b[39;00m:\n\u001b[1;32m-> 2452\u001b[0m     result \u001b[39m=\u001b[39m \u001b[39mself\u001b[39;49m\u001b[39m.\u001b[39;49m_cython_agg_general(\n\u001b[0;32m   2453\u001b[0m         \u001b[39m\"\u001b[39;49m\u001b[39mmean\u001b[39;49m\u001b[39m\"\u001b[39;49m,\n\u001b[0;32m   2454\u001b[0m         alt\u001b[39m=\u001b[39;49m\u001b[39mlambda\u001b[39;49;00m x: Series(x, copy\u001b[39m=\u001b[39;49m\u001b[39mFalse\u001b[39;49;00m)\u001b[39m.\u001b[39;49mmean(numeric_only\u001b[39m=\u001b[39;49mnumeric_only),\n\u001b[0;32m   2455\u001b[0m         numeric_only\u001b[39m=\u001b[39;49mnumeric_only,\n\u001b[0;32m   2456\u001b[0m     )\n\u001b[0;32m   2457\u001b[0m     \u001b[39mreturn\u001b[39;00m result\u001b[39m.\u001b[39m__finalize__(\u001b[39mself\u001b[39m\u001b[39m.\u001b[39mobj, method\u001b[39m=\u001b[39m\u001b[39m\"\u001b[39m\u001b[39mgroupby\u001b[39m\u001b[39m\"\u001b[39m)\n",
      "File \u001b[1;32mc:\\Users\\migue\\miniconda3\\envs\\merca\\Lib\\site-packages\\pandas\\core\\groupby\\groupby.py:1998\u001b[0m, in \u001b[0;36mGroupBy._cython_agg_general\u001b[1;34m(self, how, alt, numeric_only, min_count, **kwargs)\u001b[0m\n\u001b[0;32m   1995\u001b[0m     result \u001b[39m=\u001b[39m \u001b[39mself\u001b[39m\u001b[39m.\u001b[39m_agg_py_fallback(how, values, ndim\u001b[39m=\u001b[39mdata\u001b[39m.\u001b[39mndim, alt\u001b[39m=\u001b[39malt)\n\u001b[0;32m   1996\u001b[0m     \u001b[39mreturn\u001b[39;00m result\n\u001b[1;32m-> 1998\u001b[0m new_mgr \u001b[39m=\u001b[39m data\u001b[39m.\u001b[39;49mgrouped_reduce(array_func)\n\u001b[0;32m   1999\u001b[0m res \u001b[39m=\u001b[39m \u001b[39mself\u001b[39m\u001b[39m.\u001b[39m_wrap_agged_manager(new_mgr)\n\u001b[0;32m   2000\u001b[0m \u001b[39mif\u001b[39;00m how \u001b[39min\u001b[39;00m [\u001b[39m\"\u001b[39m\u001b[39midxmin\u001b[39m\u001b[39m\"\u001b[39m, \u001b[39m\"\u001b[39m\u001b[39midxmax\u001b[39m\u001b[39m\"\u001b[39m]:\n",
      "File \u001b[1;32mc:\\Users\\migue\\miniconda3\\envs\\merca\\Lib\\site-packages\\pandas\\core\\internals\\managers.py:1469\u001b[0m, in \u001b[0;36mBlockManager.grouped_reduce\u001b[1;34m(self, func)\u001b[0m\n\u001b[0;32m   1465\u001b[0m \u001b[39mif\u001b[39;00m blk\u001b[39m.\u001b[39mis_object:\n\u001b[0;32m   1466\u001b[0m     \u001b[39m# split on object-dtype blocks bc some columns may raise\u001b[39;00m\n\u001b[0;32m   1467\u001b[0m     \u001b[39m#  while others do not.\u001b[39;00m\n\u001b[0;32m   1468\u001b[0m     \u001b[39mfor\u001b[39;00m sb \u001b[39min\u001b[39;00m blk\u001b[39m.\u001b[39m_split():\n\u001b[1;32m-> 1469\u001b[0m         applied \u001b[39m=\u001b[39m sb\u001b[39m.\u001b[39;49mapply(func)\n\u001b[0;32m   1470\u001b[0m         result_blocks \u001b[39m=\u001b[39m extend_blocks(applied, result_blocks)\n\u001b[0;32m   1471\u001b[0m \u001b[39melse\u001b[39;00m:\n",
      "File \u001b[1;32mc:\\Users\\migue\\miniconda3\\envs\\merca\\Lib\\site-packages\\pandas\\core\\internals\\blocks.py:393\u001b[0m, in \u001b[0;36mBlock.apply\u001b[1;34m(self, func, **kwargs)\u001b[0m\n\u001b[0;32m    387\u001b[0m \u001b[39m@final\u001b[39m\n\u001b[0;32m    388\u001b[0m \u001b[39mdef\u001b[39;00m \u001b[39mapply\u001b[39m(\u001b[39mself\u001b[39m, func, \u001b[39m*\u001b[39m\u001b[39m*\u001b[39mkwargs) \u001b[39m-\u001b[39m\u001b[39m>\u001b[39m \u001b[39mlist\u001b[39m[Block]:\n\u001b[0;32m    389\u001b[0m \u001b[39m    \u001b[39m\u001b[39m\"\"\"\u001b[39;00m\n\u001b[0;32m    390\u001b[0m \u001b[39m    apply the function to my values; return a block if we are not\u001b[39;00m\n\u001b[0;32m    391\u001b[0m \u001b[39m    one\u001b[39;00m\n\u001b[0;32m    392\u001b[0m \u001b[39m    \"\"\"\u001b[39;00m\n\u001b[1;32m--> 393\u001b[0m     result \u001b[39m=\u001b[39m func(\u001b[39mself\u001b[39;49m\u001b[39m.\u001b[39;49mvalues, \u001b[39m*\u001b[39;49m\u001b[39m*\u001b[39;49mkwargs)\n\u001b[0;32m    395\u001b[0m     result \u001b[39m=\u001b[39m maybe_coerce_values(result)\n\u001b[0;32m    396\u001b[0m     \u001b[39mreturn\u001b[39;00m \u001b[39mself\u001b[39m\u001b[39m.\u001b[39m_split_op_result(result)\n",
      "File \u001b[1;32mc:\\Users\\migue\\miniconda3\\envs\\merca\\Lib\\site-packages\\pandas\\core\\groupby\\groupby.py:1995\u001b[0m, in \u001b[0;36mGroupBy._cython_agg_general.<locals>.array_func\u001b[1;34m(values)\u001b[0m\n\u001b[0;32m   1992\u001b[0m     \u001b[39mreturn\u001b[39;00m result\n\u001b[0;32m   1994\u001b[0m \u001b[39massert\u001b[39;00m alt \u001b[39mis\u001b[39;00m \u001b[39mnot\u001b[39;00m \u001b[39mNone\u001b[39;00m\n\u001b[1;32m-> 1995\u001b[0m result \u001b[39m=\u001b[39m \u001b[39mself\u001b[39;49m\u001b[39m.\u001b[39;49m_agg_py_fallback(how, values, ndim\u001b[39m=\u001b[39;49mdata\u001b[39m.\u001b[39;49mndim, alt\u001b[39m=\u001b[39;49malt)\n\u001b[0;32m   1996\u001b[0m \u001b[39mreturn\u001b[39;00m result\n",
      "File \u001b[1;32mc:\\Users\\migue\\miniconda3\\envs\\merca\\Lib\\site-packages\\pandas\\core\\groupby\\groupby.py:1946\u001b[0m, in \u001b[0;36mGroupBy._agg_py_fallback\u001b[1;34m(self, how, values, ndim, alt)\u001b[0m\n\u001b[0;32m   1944\u001b[0m     msg \u001b[39m=\u001b[39m \u001b[39mf\u001b[39m\u001b[39m\"\u001b[39m\u001b[39magg function failed [how->\u001b[39m\u001b[39m{\u001b[39;00mhow\u001b[39m}\u001b[39;00m\u001b[39m,dtype->\u001b[39m\u001b[39m{\u001b[39;00mser\u001b[39m.\u001b[39mdtype\u001b[39m}\u001b[39;00m\u001b[39m]\u001b[39m\u001b[39m\"\u001b[39m\n\u001b[0;32m   1945\u001b[0m     \u001b[39m# preserve the kind of exception that raised\u001b[39;00m\n\u001b[1;32m-> 1946\u001b[0m     \u001b[39mraise\u001b[39;00m \u001b[39mtype\u001b[39m(err)(msg) \u001b[39mfrom\u001b[39;00m \u001b[39merr\u001b[39;00m\n\u001b[0;32m   1948\u001b[0m \u001b[39mif\u001b[39;00m ser\u001b[39m.\u001b[39mdtype \u001b[39m==\u001b[39m \u001b[39mobject\u001b[39m:\n\u001b[0;32m   1949\u001b[0m     res_values \u001b[39m=\u001b[39m res_values\u001b[39m.\u001b[39mastype(\u001b[39mobject\u001b[39m, copy\u001b[39m=\u001b[39m\u001b[39mFalse\u001b[39;00m)\n",
      "\u001b[1;31mTypeError\u001b[0m: agg function failed [how->mean,dtype->object]"
     ]
    }
   ],
   "source": [
    "df.groupby('id').filter(lambda x: len(x) > 2)[['id', 'display_name', 'price_instructions.unit_price', 'ymd', 'l3_name']].groupby('l3_name').mean().reset_index()"
   ]
  },
  {
   "cell_type": "code",
   "execution_count": 166,
   "metadata": {},
   "outputs": [
    {
     "data": {
      "application/vnd.plotly.v1+json": {
       "config": {
        "plotlyServerURL": "https://plot.ly"
       },
       "data": [
        {
         "mode": "lines+markers",
         "name": "Aceite, especias y salsas",
         "type": "scatter",
         "x": [
          "2024-04-23T00:00:00",
          "2024-05-02T00:00:00",
          "2024-05-03T00:00:00"
         ],
         "y": [
          1.89,
          1.75,
          1.75
         ]
        },
        {
         "mode": "lines+markers",
         "name": "Agua y refrescos",
         "type": "scatter",
         "x": [
          "2024-04-23T00:00:00",
          "2024-04-28T00:00:00",
          "2024-04-29T00:00:00",
          "2024-05-02T00:00:00",
          "2024-05-03T00:00:00"
         ],
         "y": [
          4.289411764705882,
          3.283333333333333,
          4.527777777777778,
          2.225,
          3.8176470588235296
         ]
        },
        {
         "mode": "lines+markers",
         "name": "Azúcar, caramelos y chocolate",
         "type": "scatter",
         "x": [
          "2024-04-23T00:00:00",
          "2024-04-28T00:00:00",
          "2024-04-29T00:00:00",
          "2024-05-02T00:00:00",
          "2024-05-03T00:00:00"
         ],
         "y": [
          3.05,
          3.45,
          3.45,
          1.82,
          2.6350000000000002
         ]
        },
        {
         "mode": "lines+markers",
         "name": "Bebé",
         "type": "scatter",
         "x": [
          "2024-04-23T00:00:00",
          "2024-04-28T00:00:00",
          "2024-04-29T00:00:00",
          "2024-05-03T00:00:00"
         ],
         "y": [
          5.85,
          10.5,
          1.75,
          5.25
         ]
        },
        {
         "mode": "lines+markers",
         "name": "Bodega",
         "type": "scatter",
         "x": [
          "2024-04-23T00:00:00",
          "2024-04-24T00:00:00",
          "2024-04-26T00:00:00",
          "2024-04-28T00:00:00",
          "2024-05-01T00:00:00",
          "2024-05-02T00:00:00",
          "2024-05-03T00:00:00",
          "2024-05-07T00:00:00"
         ],
         "y": [
          8.681000000000001,
          8.58,
          15,
          7.02,
          6.96,
          7.98,
          8.61,
          5.52
         ]
        },
        {
         "mode": "lines+markers",
         "name": "Cacao, café e infusiones",
         "type": "scatter",
         "x": [
          "2024-04-23T00:00:00",
          "2024-04-29T00:00:00",
          "2024-05-03T00:00:00"
         ],
         "y": [
          3,
          2.65,
          2.65
         ]
        },
        {
         "mode": "lines+markers",
         "name": "Cereales y galletas",
         "type": "scatter",
         "x": [
          "2024-04-23T00:00:00",
          "2024-04-29T00:00:00",
          "2024-05-03T00:00:00"
         ],
         "y": [
          3.55,
          2.95,
          2.95
         ]
        },
        {
         "mode": "lines+markers",
         "name": "Congelados",
         "type": "scatter",
         "x": [
          "2024-04-23T00:00:00",
          "2024-04-28T00:00:00",
          "2024-05-03T00:00:00",
          "2024-05-06T00:00:00"
         ],
         "y": [
          3.475,
          4.8,
          3.4,
          1.95
         ]
        },
        {
         "mode": "lines+markers",
         "name": "Conservas, caldos y cremas",
         "type": "scatter",
         "x": [
          "2024-04-23T00:00:00",
          "2024-05-02T00:00:00",
          "2024-05-03T00:00:00"
         ],
         "y": [
          2.225,
          2.13125,
          2.13125
         ]
        },
        {
         "mode": "lines+markers",
         "name": "Cuidado del cabello",
         "type": "scatter",
         "x": [
          "2024-04-23T00:00:00",
          "2024-04-25T00:00:00",
          "2024-04-26T00:00:00"
         ],
         "y": [
          3.1999999999999997,
          2.8833333333333333,
          2.8833333333333333
         ]
        },
        {
         "mode": "lines+markers",
         "name": "Cuidado facial y corporal",
         "type": "scatter",
         "x": [
          "2024-04-23T00:00:00",
          "2024-04-24T00:00:00",
          "2024-04-26T00:00:00",
          "2024-05-01T00:00:00",
          "2024-05-02T00:00:00",
          "2024-05-03T00:00:00",
          "2024-05-07T00:00:00"
         ],
         "y": [
          4.134615384615385,
          5.46,
          5.459999999999999,
          1.6,
          2.3,
          2.56875,
          8.95
         ]
        },
        {
         "mode": "lines+markers",
         "name": "Fruta y verdura",
         "type": "scatter",
         "x": [
          "2024-04-23T00:00:00",
          "2024-04-24T00:00:00",
          "2024-04-25T00:00:00",
          "2024-04-26T00:00:00",
          "2024-04-27T00:00:00",
          "2024-04-28T00:00:00",
          "2024-04-29T00:00:00",
          "2024-05-01T00:00:00",
          "2024-05-02T00:00:00",
          "2024-05-03T00:00:00",
          "2024-05-04T00:00:00",
          "2024-05-06T00:00:00",
          "2024-05-07T00:00:00",
          "2024-05-08T00:00:00"
         ],
         "y": [
          1.9484782608695652,
          2.314761904761905,
          2.7276190476190476,
          2.627272727272727,
          1.77,
          2.5846666666666667,
          2.572608695652174,
          2.1104166666666666,
          2.57375,
          1.9996875,
          1.8675000000000002,
          2.67,
          2.6255555555555556,
          3.982
         ]
        },
        {
         "mode": "lines+markers",
         "name": "Huevos, leche y mantequilla",
         "type": "scatter",
         "x": [
          "2024-04-23T00:00:00",
          "2024-04-29T00:00:00",
          "2024-05-03T00:00:00"
         ],
         "y": [
          6.004545454545454,
          5.415454545454545,
          5.415454545454545
         ]
        },
        {
         "mode": "lines+markers",
         "name": "Maquillaje",
         "type": "scatter",
         "x": [
          "2024-04-23T00:00:00",
          "2024-05-01T00:00:00",
          "2024-05-03T00:00:00"
         ],
         "y": [
          8,
          6.5,
          6.5
         ]
        },
        {
         "mode": "lines+markers",
         "name": "Marisco y pescado",
         "type": "scatter",
         "x": [
          "2024-04-23T00:00:00",
          "2024-04-24T00:00:00",
          "2024-04-25T00:00:00",
          "2024-04-26T00:00:00",
          "2024-04-27T00:00:00",
          "2024-04-28T00:00:00",
          "2024-04-29T00:00:00",
          "2024-05-01T00:00:00",
          "2024-05-02T00:00:00",
          "2024-05-03T00:00:00",
          "2024-05-04T00:00:00",
          "2024-05-06T00:00:00",
          "2024-05-07T00:00:00",
          "2024-05-08T00:00:00"
         ],
         "y": [
          9.77,
          11.802222222222223,
          13.099142857142857,
          12.8525,
          11.221666666666666,
          14.080344827586206,
          14.533103448275863,
          10.5521875,
          7.622857142857143,
          12.624186046511628,
          11.906666666666666,
          37.8,
          12.433571428571428,
          14.21625
         ]
        },
        {
         "mode": "lines+markers",
         "name": "Postres y yogures",
         "type": "scatter",
         "x": [
          "2024-04-23T00:00:00",
          "2024-04-24T00:00:00",
          "2024-04-26T00:00:00",
          "2024-05-02T00:00:00",
          "2024-05-03T00:00:00"
         ],
         "y": [
          3.69,
          2.07,
          2.07,
          4.71,
          4.71
         ]
        },
        {
         "mode": "lines+markers",
         "name": "Zumos",
         "type": "scatter",
         "x": [
          "2024-04-23T00:00:00",
          "2024-04-29T00:00:00",
          "2024-05-03T00:00:00"
         ],
         "y": [
          2.49,
          2.15,
          2.15
         ]
        }
       ],
       "layout": {
        "template": {
         "data": {
          "bar": [
           {
            "error_x": {
             "color": "#2a3f5f"
            },
            "error_y": {
             "color": "#2a3f5f"
            },
            "marker": {
             "line": {
              "color": "#E5ECF6",
              "width": 0.5
             },
             "pattern": {
              "fillmode": "overlay",
              "size": 10,
              "solidity": 0.2
             }
            },
            "type": "bar"
           }
          ],
          "barpolar": [
           {
            "marker": {
             "line": {
              "color": "#E5ECF6",
              "width": 0.5
             },
             "pattern": {
              "fillmode": "overlay",
              "size": 10,
              "solidity": 0.2
             }
            },
            "type": "barpolar"
           }
          ],
          "carpet": [
           {
            "aaxis": {
             "endlinecolor": "#2a3f5f",
             "gridcolor": "white",
             "linecolor": "white",
             "minorgridcolor": "white",
             "startlinecolor": "#2a3f5f"
            },
            "baxis": {
             "endlinecolor": "#2a3f5f",
             "gridcolor": "white",
             "linecolor": "white",
             "minorgridcolor": "white",
             "startlinecolor": "#2a3f5f"
            },
            "type": "carpet"
           }
          ],
          "choropleth": [
           {
            "colorbar": {
             "outlinewidth": 0,
             "ticks": ""
            },
            "type": "choropleth"
           }
          ],
          "contour": [
           {
            "colorbar": {
             "outlinewidth": 0,
             "ticks": ""
            },
            "colorscale": [
             [
              0,
              "#0d0887"
             ],
             [
              0.1111111111111111,
              "#46039f"
             ],
             [
              0.2222222222222222,
              "#7201a8"
             ],
             [
              0.3333333333333333,
              "#9c179e"
             ],
             [
              0.4444444444444444,
              "#bd3786"
             ],
             [
              0.5555555555555556,
              "#d8576b"
             ],
             [
              0.6666666666666666,
              "#ed7953"
             ],
             [
              0.7777777777777778,
              "#fb9f3a"
             ],
             [
              0.8888888888888888,
              "#fdca26"
             ],
             [
              1,
              "#f0f921"
             ]
            ],
            "type": "contour"
           }
          ],
          "contourcarpet": [
           {
            "colorbar": {
             "outlinewidth": 0,
             "ticks": ""
            },
            "type": "contourcarpet"
           }
          ],
          "heatmap": [
           {
            "colorbar": {
             "outlinewidth": 0,
             "ticks": ""
            },
            "colorscale": [
             [
              0,
              "#0d0887"
             ],
             [
              0.1111111111111111,
              "#46039f"
             ],
             [
              0.2222222222222222,
              "#7201a8"
             ],
             [
              0.3333333333333333,
              "#9c179e"
             ],
             [
              0.4444444444444444,
              "#bd3786"
             ],
             [
              0.5555555555555556,
              "#d8576b"
             ],
             [
              0.6666666666666666,
              "#ed7953"
             ],
             [
              0.7777777777777778,
              "#fb9f3a"
             ],
             [
              0.8888888888888888,
              "#fdca26"
             ],
             [
              1,
              "#f0f921"
             ]
            ],
            "type": "heatmap"
           }
          ],
          "heatmapgl": [
           {
            "colorbar": {
             "outlinewidth": 0,
             "ticks": ""
            },
            "colorscale": [
             [
              0,
              "#0d0887"
             ],
             [
              0.1111111111111111,
              "#46039f"
             ],
             [
              0.2222222222222222,
              "#7201a8"
             ],
             [
              0.3333333333333333,
              "#9c179e"
             ],
             [
              0.4444444444444444,
              "#bd3786"
             ],
             [
              0.5555555555555556,
              "#d8576b"
             ],
             [
              0.6666666666666666,
              "#ed7953"
             ],
             [
              0.7777777777777778,
              "#fb9f3a"
             ],
             [
              0.8888888888888888,
              "#fdca26"
             ],
             [
              1,
              "#f0f921"
             ]
            ],
            "type": "heatmapgl"
           }
          ],
          "histogram": [
           {
            "marker": {
             "pattern": {
              "fillmode": "overlay",
              "size": 10,
              "solidity": 0.2
             }
            },
            "type": "histogram"
           }
          ],
          "histogram2d": [
           {
            "colorbar": {
             "outlinewidth": 0,
             "ticks": ""
            },
            "colorscale": [
             [
              0,
              "#0d0887"
             ],
             [
              0.1111111111111111,
              "#46039f"
             ],
             [
              0.2222222222222222,
              "#7201a8"
             ],
             [
              0.3333333333333333,
              "#9c179e"
             ],
             [
              0.4444444444444444,
              "#bd3786"
             ],
             [
              0.5555555555555556,
              "#d8576b"
             ],
             [
              0.6666666666666666,
              "#ed7953"
             ],
             [
              0.7777777777777778,
              "#fb9f3a"
             ],
             [
              0.8888888888888888,
              "#fdca26"
             ],
             [
              1,
              "#f0f921"
             ]
            ],
            "type": "histogram2d"
           }
          ],
          "histogram2dcontour": [
           {
            "colorbar": {
             "outlinewidth": 0,
             "ticks": ""
            },
            "colorscale": [
             [
              0,
              "#0d0887"
             ],
             [
              0.1111111111111111,
              "#46039f"
             ],
             [
              0.2222222222222222,
              "#7201a8"
             ],
             [
              0.3333333333333333,
              "#9c179e"
             ],
             [
              0.4444444444444444,
              "#bd3786"
             ],
             [
              0.5555555555555556,
              "#d8576b"
             ],
             [
              0.6666666666666666,
              "#ed7953"
             ],
             [
              0.7777777777777778,
              "#fb9f3a"
             ],
             [
              0.8888888888888888,
              "#fdca26"
             ],
             [
              1,
              "#f0f921"
             ]
            ],
            "type": "histogram2dcontour"
           }
          ],
          "mesh3d": [
           {
            "colorbar": {
             "outlinewidth": 0,
             "ticks": ""
            },
            "type": "mesh3d"
           }
          ],
          "parcoords": [
           {
            "line": {
             "colorbar": {
              "outlinewidth": 0,
              "ticks": ""
             }
            },
            "type": "parcoords"
           }
          ],
          "pie": [
           {
            "automargin": true,
            "type": "pie"
           }
          ],
          "scatter": [
           {
            "fillpattern": {
             "fillmode": "overlay",
             "size": 10,
             "solidity": 0.2
            },
            "type": "scatter"
           }
          ],
          "scatter3d": [
           {
            "line": {
             "colorbar": {
              "outlinewidth": 0,
              "ticks": ""
             }
            },
            "marker": {
             "colorbar": {
              "outlinewidth": 0,
              "ticks": ""
             }
            },
            "type": "scatter3d"
           }
          ],
          "scattercarpet": [
           {
            "marker": {
             "colorbar": {
              "outlinewidth": 0,
              "ticks": ""
             }
            },
            "type": "scattercarpet"
           }
          ],
          "scattergeo": [
           {
            "marker": {
             "colorbar": {
              "outlinewidth": 0,
              "ticks": ""
             }
            },
            "type": "scattergeo"
           }
          ],
          "scattergl": [
           {
            "marker": {
             "colorbar": {
              "outlinewidth": 0,
              "ticks": ""
             }
            },
            "type": "scattergl"
           }
          ],
          "scattermapbox": [
           {
            "marker": {
             "colorbar": {
              "outlinewidth": 0,
              "ticks": ""
             }
            },
            "type": "scattermapbox"
           }
          ],
          "scatterpolar": [
           {
            "marker": {
             "colorbar": {
              "outlinewidth": 0,
              "ticks": ""
             }
            },
            "type": "scatterpolar"
           }
          ],
          "scatterpolargl": [
           {
            "marker": {
             "colorbar": {
              "outlinewidth": 0,
              "ticks": ""
             }
            },
            "type": "scatterpolargl"
           }
          ],
          "scatterternary": [
           {
            "marker": {
             "colorbar": {
              "outlinewidth": 0,
              "ticks": ""
             }
            },
            "type": "scatterternary"
           }
          ],
          "surface": [
           {
            "colorbar": {
             "outlinewidth": 0,
             "ticks": ""
            },
            "colorscale": [
             [
              0,
              "#0d0887"
             ],
             [
              0.1111111111111111,
              "#46039f"
             ],
             [
              0.2222222222222222,
              "#7201a8"
             ],
             [
              0.3333333333333333,
              "#9c179e"
             ],
             [
              0.4444444444444444,
              "#bd3786"
             ],
             [
              0.5555555555555556,
              "#d8576b"
             ],
             [
              0.6666666666666666,
              "#ed7953"
             ],
             [
              0.7777777777777778,
              "#fb9f3a"
             ],
             [
              0.8888888888888888,
              "#fdca26"
             ],
             [
              1,
              "#f0f921"
             ]
            ],
            "type": "surface"
           }
          ],
          "table": [
           {
            "cells": {
             "fill": {
              "color": "#EBF0F8"
             },
             "line": {
              "color": "white"
             }
            },
            "header": {
             "fill": {
              "color": "#C8D4E3"
             },
             "line": {
              "color": "white"
             }
            },
            "type": "table"
           }
          ]
         },
         "layout": {
          "annotationdefaults": {
           "arrowcolor": "#2a3f5f",
           "arrowhead": 0,
           "arrowwidth": 1
          },
          "autotypenumbers": "strict",
          "coloraxis": {
           "colorbar": {
            "outlinewidth": 0,
            "ticks": ""
           }
          },
          "colorscale": {
           "diverging": [
            [
             0,
             "#8e0152"
            ],
            [
             0.1,
             "#c51b7d"
            ],
            [
             0.2,
             "#de77ae"
            ],
            [
             0.3,
             "#f1b6da"
            ],
            [
             0.4,
             "#fde0ef"
            ],
            [
             0.5,
             "#f7f7f7"
            ],
            [
             0.6,
             "#e6f5d0"
            ],
            [
             0.7,
             "#b8e186"
            ],
            [
             0.8,
             "#7fbc41"
            ],
            [
             0.9,
             "#4d9221"
            ],
            [
             1,
             "#276419"
            ]
           ],
           "sequential": [
            [
             0,
             "#0d0887"
            ],
            [
             0.1111111111111111,
             "#46039f"
            ],
            [
             0.2222222222222222,
             "#7201a8"
            ],
            [
             0.3333333333333333,
             "#9c179e"
            ],
            [
             0.4444444444444444,
             "#bd3786"
            ],
            [
             0.5555555555555556,
             "#d8576b"
            ],
            [
             0.6666666666666666,
             "#ed7953"
            ],
            [
             0.7777777777777778,
             "#fb9f3a"
            ],
            [
             0.8888888888888888,
             "#fdca26"
            ],
            [
             1,
             "#f0f921"
            ]
           ],
           "sequentialminus": [
            [
             0,
             "#0d0887"
            ],
            [
             0.1111111111111111,
             "#46039f"
            ],
            [
             0.2222222222222222,
             "#7201a8"
            ],
            [
             0.3333333333333333,
             "#9c179e"
            ],
            [
             0.4444444444444444,
             "#bd3786"
            ],
            [
             0.5555555555555556,
             "#d8576b"
            ],
            [
             0.6666666666666666,
             "#ed7953"
            ],
            [
             0.7777777777777778,
             "#fb9f3a"
            ],
            [
             0.8888888888888888,
             "#fdca26"
            ],
            [
             1,
             "#f0f921"
            ]
           ]
          },
          "colorway": [
           "#636efa",
           "#EF553B",
           "#00cc96",
           "#ab63fa",
           "#FFA15A",
           "#19d3f3",
           "#FF6692",
           "#B6E880",
           "#FF97FF",
           "#FECB52"
          ],
          "font": {
           "color": "#2a3f5f"
          },
          "geo": {
           "bgcolor": "white",
           "lakecolor": "white",
           "landcolor": "#E5ECF6",
           "showlakes": true,
           "showland": true,
           "subunitcolor": "white"
          },
          "hoverlabel": {
           "align": "left"
          },
          "hovermode": "closest",
          "mapbox": {
           "style": "light"
          },
          "paper_bgcolor": "white",
          "plot_bgcolor": "#E5ECF6",
          "polar": {
           "angularaxis": {
            "gridcolor": "white",
            "linecolor": "white",
            "ticks": ""
           },
           "bgcolor": "#E5ECF6",
           "radialaxis": {
            "gridcolor": "white",
            "linecolor": "white",
            "ticks": ""
           }
          },
          "scene": {
           "xaxis": {
            "backgroundcolor": "#E5ECF6",
            "gridcolor": "white",
            "gridwidth": 2,
            "linecolor": "white",
            "showbackground": true,
            "ticks": "",
            "zerolinecolor": "white"
           },
           "yaxis": {
            "backgroundcolor": "#E5ECF6",
            "gridcolor": "white",
            "gridwidth": 2,
            "linecolor": "white",
            "showbackground": true,
            "ticks": "",
            "zerolinecolor": "white"
           },
           "zaxis": {
            "backgroundcolor": "#E5ECF6",
            "gridcolor": "white",
            "gridwidth": 2,
            "linecolor": "white",
            "showbackground": true,
            "ticks": "",
            "zerolinecolor": "white"
           }
          },
          "shapedefaults": {
           "line": {
            "color": "#2a3f5f"
           }
          },
          "ternary": {
           "aaxis": {
            "gridcolor": "white",
            "linecolor": "white",
            "ticks": ""
           },
           "baxis": {
            "gridcolor": "white",
            "linecolor": "white",
            "ticks": ""
           },
           "bgcolor": "#E5ECF6",
           "caxis": {
            "gridcolor": "white",
            "linecolor": "white",
            "ticks": ""
           }
          },
          "title": {
           "x": 0.05
          },
          "xaxis": {
           "automargin": true,
           "gridcolor": "white",
           "linecolor": "white",
           "ticks": "",
           "title": {
            "standoff": 15
           },
           "zerolinecolor": "white",
           "zerolinewidth": 2
          },
          "yaxis": {
           "automargin": true,
           "gridcolor": "white",
           "linecolor": "white",
           "ticks": "",
           "title": {
            "standoff": 15
           },
           "zerolinecolor": "white",
           "zerolinewidth": 2
          }
         }
        },
        "title": {
         "text": "Mean Price Fluctuation Over Time by Category"
        },
        "xaxis": {
         "title": {
          "text": "Date"
         }
        },
        "yaxis": {
         "title": {
          "text": "Mean Price"
         }
        }
       }
      }
     },
     "metadata": {},
     "output_type": "display_data"
    }
   ],
   "source": [
    "df = pd.read_sql(\"\"\"SELECT id, display_name, [price_instructions.unit_price], prices.ymd, l1_name\n",
    "    FROM prices LEFT JOIN products\n",
    "    USING(id) LEFT JOIN ids_categories USING(id);\"\"\", conn).sort_values(by=['id']).drop_duplicates(subset=['id', 'ymd'])\n",
    "\n",
    "# Assuming your DataFrame is 'df' and the id column is 'id'\n",
    "df = df.groupby('id').filter(lambda x: len(x) > 2)[['id', 'display_name', 'price_instructions.unit_price', 'ymd', 'l1_name']]\n",
    "\n",
    "# Convert 'ymd' column to datetime\n",
    "df['ymd'] = pd.to_datetime(df['ymd'], format='%Y%m%d')\n",
    "\n",
    "# Sort DataFrame by 'ymd'\n",
    "df.sort_values(by='ymd', inplace=True)\n",
    "\n",
    "# Group by 'l1_name' and 'ymd' and compute mean prices\n",
    "grouped = df.groupby(['l1_name', 'ymd'])['price_instructions.unit_price'].mean().reset_index()\n",
    "\n",
    "# Create traces for each group\n",
    "fig = go.Figure()\n",
    "\n",
    "for name, group in grouped.groupby('l1_name'):\n",
    "    fig.add_trace(go.Scatter(x=group['ymd'],\n",
    "                             y=group['price_instructions.unit_price'],\n",
    "                             mode='lines+markers',\n",
    "                             name=name))\n",
    "\n",
    "# Add layout\n",
    "fig.update_layout(title='Mean Price Fluctuation Over Time by Category',\n",
    "                  xaxis_title='Date',\n",
    "                  yaxis_title='Mean Price')\n",
    "\n",
    "# Display plot\n",
    "fig.show()"
   ]
  },
  {
   "cell_type": "code",
   "execution_count": 161,
   "metadata": {},
   "outputs": [
    {
     "data": {
      "text/html": [
       "<div>\n",
       "<style scoped>\n",
       "    .dataframe tbody tr th:only-of-type {\n",
       "        vertical-align: middle;\n",
       "    }\n",
       "\n",
       "    .dataframe tbody tr th {\n",
       "        vertical-align: top;\n",
       "    }\n",
       "\n",
       "    .dataframe thead th {\n",
       "        text-align: right;\n",
       "    }\n",
       "</style>\n",
       "<table border=\"1\" class=\"dataframe\">\n",
       "  <thead>\n",
       "    <tr style=\"text-align: right;\">\n",
       "      <th></th>\n",
       "      <th>l3_name</th>\n",
       "      <th>price_instructions.unit_price</th>\n",
       "    </tr>\n",
       "  </thead>\n",
       "  <tbody>\n",
       "    <tr>\n",
       "      <th>0</th>\n",
       "      <td>Acondicionador</td>\n",
       "      <td>3.066667</td>\n",
       "    </tr>\n",
       "    <tr>\n",
       "      <th>1</th>\n",
       "      <td>Agua sin gas</td>\n",
       "      <td>2.305000</td>\n",
       "    </tr>\n",
       "    <tr>\n",
       "      <th>2</th>\n",
       "      <td>Anís</td>\n",
       "      <td>11.900000</td>\n",
       "    </tr>\n",
       "    <tr>\n",
       "      <th>3</th>\n",
       "      <td>Bacalao</td>\n",
       "      <td>20.403929</td>\n",
       "    </tr>\n",
       "    <tr>\n",
       "      <th>4</th>\n",
       "      <td>Bífidus naturales</td>\n",
       "      <td>3.733333</td>\n",
       "    </tr>\n",
       "    <tr>\n",
       "      <th>...</th>\n",
       "      <td>...</td>\n",
       "      <td>...</td>\n",
       "    </tr>\n",
       "    <tr>\n",
       "      <th>60</th>\n",
       "      <td>Sombra de ojos</td>\n",
       "      <td>7.000000</td>\n",
       "    </tr>\n",
       "    <tr>\n",
       "      <th>61</th>\n",
       "      <td>Tomate</td>\n",
       "      <td>0.855625</td>\n",
       "    </tr>\n",
       "    <tr>\n",
       "      <th>62</th>\n",
       "      <td>Trucha</td>\n",
       "      <td>7.722400</td>\n",
       "    </tr>\n",
       "    <tr>\n",
       "      <th>63</th>\n",
       "      <td>Tónica y bitter</td>\n",
       "      <td>2.027778</td>\n",
       "    </tr>\n",
       "    <tr>\n",
       "      <th>64</th>\n",
       "      <td>Whisky</td>\n",
       "      <td>13.564286</td>\n",
       "    </tr>\n",
       "  </tbody>\n",
       "</table>\n",
       "<p>65 rows × 2 columns</p>\n",
       "</div>"
      ],
      "text/plain": [
       "              l3_name  price_instructions.unit_price\n",
       "0      Acondicionador                       3.066667\n",
       "1        Agua sin gas                       2.305000\n",
       "2                Anís                      11.900000\n",
       "3             Bacalao                      20.403929\n",
       "4   Bífidus naturales                       3.733333\n",
       "..                ...                            ...\n",
       "60     Sombra de ojos                       7.000000\n",
       "61             Tomate                       0.855625\n",
       "62             Trucha                       7.722400\n",
       "63    Tónica y bitter                       2.027778\n",
       "64             Whisky                      13.564286\n",
       "\n",
       "[65 rows x 2 columns]"
      ]
     },
     "execution_count": 161,
     "metadata": {},
     "output_type": "execute_result"
    }
   ],
   "source": [
    "grouped"
   ]
  },
  {
   "cell_type": "code",
   "execution_count": 21,
   "metadata": {},
   "outputs": [
    {
     "data": {
      "text/plain": [
       "Index(['id', 'ean', 'price_instructions.iva', 'price_instructions.is_new',\n",
       "       'price_instructions.is_pack', 'price_instructions.pack_size',\n",
       "       'price_instructions.unit_name', 'price_instructions.unit_size',\n",
       "       'price_instructions.bulk_price', 'price_instructions.unit_price',\n",
       "       'price_instructions.approx_size', 'price_instructions.size_format',\n",
       "       'price_instructions.total_units', 'price_instructions.unit_selector',\n",
       "       'price_instructions.bunch_selector',\n",
       "       'price_instructions.drained_weight',\n",
       "       'price_instructions.selling_method',\n",
       "       'price_instructions.price_decreased',\n",
       "       'price_instructions.reference_price',\n",
       "       'price_instructions.min_bunch_amount',\n",
       "       'price_instructions.reference_format',\n",
       "       'price_instructions.previous_unit_price',\n",
       "       'price_instructions.increment_bunch_amount', 'hash', 'ymd', 'ean',\n",
       "       'slug', 'brand', 'badges.is_water', 'badges.requires_age_check',\n",
       "       'origin', 'details.brand', 'details.origin', 'details.suppliers',\n",
       "       'details.legal_name', 'details.description', 'details.counter_info',\n",
       "       'details.danger_mentions', 'details.alcohol_by_volume',\n",
       "       'details.mandatory_mentions', 'details.production_variant',\n",
       "       'details.usage_instructions', 'details.storage_instructions', 'is_bulk',\n",
       "       'packaging', 'published', 'thumbnail', 'display_name',\n",
       "       'is_variable_weight', 'nutrition_information.allergens',\n",
       "       'nutrition_information.ingredients', 'hash', 'ymd'],\n",
       "      dtype='object')"
      ]
     },
     "execution_count": 21,
     "metadata": {},
     "output_type": "execute_result"
    }
   ],
   "source": [
    "pd.read_sql(\n",
    "      \"\"\"SELECT \n",
    "    FROM prices LEFT JOIN products\n",
    "    USING(id);\"\"\",\n",
    "        conn,\n",
    "    ).columns"
   ]
  },
  {
   "cell_type": "code",
   "execution_count": 6,
   "metadata": {},
   "outputs": [
    {
     "ename": "ValueError",
     "evalue": "Value of 'y' is not the name of a column in 'data_frame'. Expected one of ['id', 'l1', 'l1_name', 'ymd'] but received: price_instructions.reference_price",
     "output_type": "error",
     "traceback": [
      "\u001b[1;31m---------------------------------------------------------------------------\u001b[0m",
      "\u001b[1;31mValueError\u001b[0m                                Traceback (most recent call last)",
      "Cell \u001b[1;32mIn[6], line 11\u001b[0m\n\u001b[0;32m      1\u001b[0m query \u001b[39m=\u001b[39m \u001b[39m\"\"\"\u001b[39m\n\u001b[0;32m      2\u001b[0m \u001b[39m    SELECT id, l1, l1_name, prices.ymd\u001b[39m\n\u001b[0;32m      3\u001b[0m \u001b[39m    FROM prices LEFT JOIN ids_categories\u001b[39m\n\u001b[0;32m      4\u001b[0m \u001b[39m    USING(id)\u001b[39m\n\u001b[0;32m      5\u001b[0m \u001b[39m    WHERE l1 is NULL;\u001b[39m\n\u001b[0;32m      6\u001b[0m \u001b[39m    \u001b[39m\u001b[39m\"\"\"\u001b[39m\n\u001b[0;32m      7\u001b[0m df \u001b[39m=\u001b[39m pd\u001b[39m.\u001b[39mread_sql(\n\u001b[0;32m      8\u001b[0m         query,\n\u001b[0;32m      9\u001b[0m         conn,\n\u001b[0;32m     10\u001b[0m     )\n\u001b[1;32m---> 11\u001b[0m fig \u001b[39m=\u001b[39m px\u001b[39m.\u001b[39;49mline(df, x\u001b[39m=\u001b[39;49m\u001b[39m\"\u001b[39;49m\u001b[39mymd\u001b[39;49m\u001b[39m\"\u001b[39;49m, y\u001b[39m=\u001b[39;49m\u001b[39m\"\u001b[39;49m\u001b[39mprice_instructions.reference_price\u001b[39;49m\u001b[39m\"\u001b[39;49m, color\u001b[39m=\u001b[39;49m\u001b[39m\"\u001b[39;49m\u001b[39mid\u001b[39;49m\u001b[39m\"\u001b[39;49m)\n",
      "File \u001b[1;32mc:\\Users\\migue\\miniconda3\\envs\\merca\\Lib\\site-packages\\plotly\\express\\_chart_types.py:264\u001b[0m, in \u001b[0;36mline\u001b[1;34m(data_frame, x, y, line_group, color, line_dash, symbol, hover_name, hover_data, custom_data, text, facet_row, facet_col, facet_col_wrap, facet_row_spacing, facet_col_spacing, error_x, error_x_minus, error_y, error_y_minus, animation_frame, animation_group, category_orders, labels, orientation, color_discrete_sequence, color_discrete_map, line_dash_sequence, line_dash_map, symbol_sequence, symbol_map, markers, log_x, log_y, range_x, range_y, line_shape, render_mode, title, template, width, height)\u001b[0m\n\u001b[0;32m    216\u001b[0m \u001b[39mdef\u001b[39;00m \u001b[39mline\u001b[39m(\n\u001b[0;32m    217\u001b[0m     data_frame\u001b[39m=\u001b[39m\u001b[39mNone\u001b[39;00m,\n\u001b[0;32m    218\u001b[0m     x\u001b[39m=\u001b[39m\u001b[39mNone\u001b[39;00m,\n\u001b[1;32m   (...)\u001b[0m\n\u001b[0;32m    258\u001b[0m     height\u001b[39m=\u001b[39m\u001b[39mNone\u001b[39;00m,\n\u001b[0;32m    259\u001b[0m ) \u001b[39m-\u001b[39m\u001b[39m>\u001b[39m go\u001b[39m.\u001b[39mFigure:\n\u001b[0;32m    260\u001b[0m \u001b[39m    \u001b[39m\u001b[39m\"\"\"\u001b[39;00m\n\u001b[0;32m    261\u001b[0m \u001b[39m    In a 2D line plot, each row of `data_frame` is represented as vertex of\u001b[39;00m\n\u001b[0;32m    262\u001b[0m \u001b[39m    a polyline mark in 2D space.\u001b[39;00m\n\u001b[0;32m    263\u001b[0m \u001b[39m    \"\"\"\u001b[39;00m\n\u001b[1;32m--> 264\u001b[0m     \u001b[39mreturn\u001b[39;00m make_figure(args\u001b[39m=\u001b[39;49m\u001b[39mlocals\u001b[39;49m(), constructor\u001b[39m=\u001b[39;49mgo\u001b[39m.\u001b[39;49mScatter)\n",
      "File \u001b[1;32mc:\\Users\\migue\\miniconda3\\envs\\merca\\Lib\\site-packages\\plotly\\express\\_core.py:2090\u001b[0m, in \u001b[0;36mmake_figure\u001b[1;34m(args, constructor, trace_patch, layout_patch)\u001b[0m\n\u001b[0;32m   2087\u001b[0m layout_patch \u001b[39m=\u001b[39m layout_patch \u001b[39mor\u001b[39;00m {}\n\u001b[0;32m   2088\u001b[0m apply_default_cascade(args)\n\u001b[1;32m-> 2090\u001b[0m args \u001b[39m=\u001b[39m build_dataframe(args, constructor)\n\u001b[0;32m   2091\u001b[0m \u001b[39mif\u001b[39;00m constructor \u001b[39min\u001b[39;00m [go\u001b[39m.\u001b[39mTreemap, go\u001b[39m.\u001b[39mSunburst, go\u001b[39m.\u001b[39mIcicle] \u001b[39mand\u001b[39;00m args[\u001b[39m\"\u001b[39m\u001b[39mpath\u001b[39m\u001b[39m\"\u001b[39m] \u001b[39mis\u001b[39;00m \u001b[39mnot\u001b[39;00m \u001b[39mNone\u001b[39;00m:\n\u001b[0;32m   2092\u001b[0m     args \u001b[39m=\u001b[39m process_dataframe_hierarchy(args)\n",
      "File \u001b[1;32mc:\\Users\\migue\\miniconda3\\envs\\merca\\Lib\\site-packages\\plotly\\express\\_core.py:1492\u001b[0m, in \u001b[0;36mbuild_dataframe\u001b[1;34m(args, constructor)\u001b[0m\n\u001b[0;32m   1489\u001b[0m     args[\u001b[39m\"\u001b[39m\u001b[39mcolor\u001b[39m\u001b[39m\"\u001b[39m] \u001b[39m=\u001b[39m \u001b[39mNone\u001b[39;00m\n\u001b[0;32m   1490\u001b[0m \u001b[39m# now that things have been prepped, we do the systematic rewriting of `args`\u001b[39;00m\n\u001b[1;32m-> 1492\u001b[0m df_output, wide_id_vars \u001b[39m=\u001b[39m process_args_into_dataframe(\n\u001b[0;32m   1493\u001b[0m     args, wide_mode, var_name, value_name\n\u001b[0;32m   1494\u001b[0m )\n\u001b[0;32m   1496\u001b[0m \u001b[39m# now that `df_output` exists and `args` contains only references, we complete\u001b[39;00m\n\u001b[0;32m   1497\u001b[0m \u001b[39m# the special-case and wide-mode handling by further rewriting args and/or mutating\u001b[39;00m\n\u001b[0;32m   1498\u001b[0m \u001b[39m# df_output\u001b[39;00m\n\u001b[0;32m   1500\u001b[0m count_name \u001b[39m=\u001b[39m _escape_col_name(df_output, \u001b[39m\"\u001b[39m\u001b[39mcount\u001b[39m\u001b[39m\"\u001b[39m, [var_name, value_name])\n",
      "File \u001b[1;32mc:\\Users\\migue\\miniconda3\\envs\\merca\\Lib\\site-packages\\plotly\\express\\_core.py:1213\u001b[0m, in \u001b[0;36mprocess_args_into_dataframe\u001b[1;34m(args, wide_mode, var_name, value_name)\u001b[0m\n\u001b[0;32m   1211\u001b[0m         \u001b[39mif\u001b[39;00m argument \u001b[39m==\u001b[39m \u001b[39m\"\u001b[39m\u001b[39mindex\u001b[39m\u001b[39m\"\u001b[39m:\n\u001b[0;32m   1212\u001b[0m             err_msg \u001b[39m+\u001b[39m\u001b[39m=\u001b[39m \u001b[39m\"\u001b[39m\u001b[39m\\n\u001b[39;00m\u001b[39m To use the index, pass it in directly as `df.index`.\u001b[39m\u001b[39m\"\u001b[39m\n\u001b[1;32m-> 1213\u001b[0m         \u001b[39mraise\u001b[39;00m \u001b[39mValueError\u001b[39;00m(err_msg)\n\u001b[0;32m   1214\u001b[0m \u001b[39melif\u001b[39;00m length \u001b[39mand\u001b[39;00m \u001b[39mlen\u001b[39m(df_input[argument]) \u001b[39m!=\u001b[39m length:\n\u001b[0;32m   1215\u001b[0m     \u001b[39mraise\u001b[39;00m \u001b[39mValueError\u001b[39;00m(\n\u001b[0;32m   1216\u001b[0m         \u001b[39m\"\u001b[39m\u001b[39mAll arguments should have the same length. \u001b[39m\u001b[39m\"\u001b[39m\n\u001b[0;32m   1217\u001b[0m         \u001b[39m\"\u001b[39m\u001b[39mThe length of column argument `df[\u001b[39m\u001b[39m%s\u001b[39;00m\u001b[39m]` is \u001b[39m\u001b[39m%d\u001b[39;00m\u001b[39m, whereas the \u001b[39m\u001b[39m\"\u001b[39m\n\u001b[1;32m   (...)\u001b[0m\n\u001b[0;32m   1224\u001b[0m         )\n\u001b[0;32m   1225\u001b[0m     )\n",
      "\u001b[1;31mValueError\u001b[0m: Value of 'y' is not the name of a column in 'data_frame'. Expected one of ['id', 'l1', 'l1_name', 'ymd'] but received: price_instructions.reference_price"
     ]
    }
   ],
   "source": [
    "query = \"\"\"\n",
    "    SELECT id, l1, l1_name, prices.ymd\n",
    "    FROM prices LEFT JOIN ids_categories\n",
    "    USING(id)\n",
    "    WHERE l1 is NULL;\n",
    "    \"\"\"\n",
    "df = pd.read_sql(\n",
    "        query,\n",
    "        conn,\n",
    "    )\n",
    "# fig = px.line(df, x=\"ymd\", y=\"price_instructions.reference_price\", color=\"id\")"
   ]
  }
 ],
 "metadata": {
  "kernelspec": {
   "display_name": "merca",
   "language": "python",
   "name": "python3"
  },
  "language_info": {
   "codemirror_mode": {
    "name": "ipython",
    "version": 3
   },
   "file_extension": ".py",
   "mimetype": "text/x-python",
   "name": "python",
   "nbconvert_exporter": "python",
   "pygments_lexer": "ipython3",
   "version": "3.12.3"
  },
  "orig_nbformat": 4,
  "vscode": {
   "interpreter": {
    "hash": "d35eaa9a69f3256c3eccd64457ae09fcffca1b2fff5cf0fa6094705b988e1eeb"
   }
  }
 },
 "nbformat": 4,
 "nbformat_minor": 2
}
